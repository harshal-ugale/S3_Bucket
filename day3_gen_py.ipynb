{
  "nbformat": 4,
  "nbformat_minor": 0,
  "metadata": {
    "colab": {
      "name": "day3_gen.py",
      "provenance": [],
      "collapsed_sections": [],
      "include_colab_link": true
    },
    "kernelspec": {
      "name": "python3",
      "display_name": "Python 3"
    },
    "accelerator": "GPU"
  },
  "cells": [
    {
      "cell_type": "markdown",
      "metadata": {
        "id": "view-in-github",
        "colab_type": "text"
      },
      "source": [
        "<a href=\"https://colab.research.google.com/github/harshal-ugale/S3_Bucket/blob/master/day3_gen_py.ipynb\" target=\"_parent\"><img src=\"https://colab.research.google.com/assets/colab-badge.svg\" alt=\"Open In Colab\"/></a>"
      ]
    },
    {
      "cell_type": "markdown",
      "metadata": {
        "id": "_0LjzFUDWv_8",
        "colab_type": "text"
      },
      "source": [
        ""
      ]
    },
    {
      "cell_type": "markdown",
      "metadata": {
        "id": "CFdxtNv1Wv_D",
        "colab_type": "text"
      },
      "source": [
        "Running or Importing .py Files with Google Colab\n",
        "\n",
        "Run these codes first in order to install the necessary libraries and perform authorization."
      ]
    },
    {
      "cell_type": "code",
      "metadata": {
        "id": "DM389w2vWbaZ",
        "colab_type": "code",
        "colab": {
          "base_uri": "https://localhost:8080/",
          "height": 121
        },
        "outputId": "aff3ae9b-4f19-4804-812f-983892f07efa"
      },
      "source": [
        "from google.colab import drive\n",
        "drive.mount('/content/drive/', force_remount=True)"
      ],
      "execution_count": 1,
      "outputs": [
        {
          "output_type": "stream",
          "text": [
            "Go to this URL in a browser: https://accounts.google.com/o/oauth2/auth?client_id=947318989803-6bn6qk8qdgf4n4g3pfee6491hc0brc4i.apps.googleusercontent.com&redirect_uri=urn%3aietf%3awg%3aoauth%3a2.0%3aoob&response_type=code&scope=email%20https%3a%2f%2fwww.googleapis.com%2fauth%2fdocs.test%20https%3a%2f%2fwww.googleapis.com%2fauth%2fdrive%20https%3a%2f%2fwww.googleapis.com%2fauth%2fdrive.photos.readonly%20https%3a%2f%2fwww.googleapis.com%2fauth%2fpeopleapi.readonly\n",
            "\n",
            "Enter your authorization code:\n",
            "··········\n",
            "Mounted at /content/drive/\n"
          ],
          "name": "stdout"
        }
      ]
    },
    {
      "cell_type": "markdown",
      "metadata": {
        "id": "DxIbB95pW-YS",
        "colab_type": "text"
      },
      "source": [
        "Now you can reach you Google Drive with:"
      ]
    },
    {
      "cell_type": "code",
      "metadata": {
        "id": "8U2SRPamXIBN",
        "colab_type": "code",
        "colab": {
          "base_uri": "https://localhost:8080/",
          "height": 34
        },
        "outputId": "963e852c-2d20-4db7-89e6-9a15bdc09480"
      },
      "source": [
        "!ls '/content/drive'"
      ],
      "execution_count": 2,
      "outputs": [
        {
          "output_type": "stream",
          "text": [
            "'My Drive'\n"
          ],
          "name": "stdout"
        }
      ]
    },
    {
      "cell_type": "markdown",
      "metadata": {
        "id": "LLLtecC2XT4f",
        "colab_type": "text"
      },
      "source": [
        "copying the utilities and audio_path files to the 'jw' folder"
      ]
    },
    {
      "cell_type": "code",
      "metadata": {
        "id": "IUs3CsELXcr6",
        "colab_type": "code",
        "colab": {}
      },
      "source": [
        "!cp -r /content/drive/'My Drive'/utilities /content/jw/"
      ],
      "execution_count": 0,
      "outputs": []
    },
    {
      "cell_type": "code",
      "metadata": {
        "id": "W3x78NYsX8CT",
        "colab_type": "code",
        "colab": {
          "base_uri": "https://localhost:8080/",
          "height": 34
        },
        "outputId": "117c296e-631f-45a4-b32d-613a3ee51acc"
      },
      "source": [
        "!cp -r /content/drive/'My Drive'/validated_audio_data /content/jw/"
      ],
      "execution_count": 4,
      "outputs": [
        {
          "output_type": "stream",
          "text": [
            "^C\n"
          ],
          "name": "stdout"
        }
      ]
    },
    {
      "cell_type": "code",
      "metadata": {
        "id": "7bFDBXMNe-xT",
        "colab_type": "code",
        "colab": {
          "base_uri": "https://localhost:8080/",
          "height": 34
        },
        "outputId": "787610c0-7610-4928-f027-b82ec0652732"
      },
      "source": [
        "!cp -r /content/drive/'My Drive'/validated_audio_data/sales_validated /content/jw/validated_audio_data"
      ],
      "execution_count": 5,
      "outputs": [
        {
          "output_type": "stream",
          "text": [
            "^C\n"
          ],
          "name": "stdout"
        }
      ]
    },
    {
      "cell_type": "markdown",
      "metadata": {
        "id": "yjgIaiDFYLU6",
        "colab_type": "text"
      },
      "source": [
        "installing virtual enviorment"
      ]
    },
    {
      "cell_type": "code",
      "metadata": {
        "id": "5fFOmUBBYPFE",
        "colab_type": "code",
        "colab": {
          "base_uri": "https://localhost:8080/",
          "height": 205
        },
        "outputId": "223dff5a-e2f1-41b7-ea5b-9e0b09427a13"
      },
      "source": [
        "!pip3 install virtualenv\n",
        "!virtualenv theanoEnv"
      ],
      "execution_count": 6,
      "outputs": [
        {
          "output_type": "stream",
          "text": [
            "Collecting virtualenv\n",
            "\u001b[?25l  Downloading https://files.pythonhosted.org/packages/62/77/6a86ef945ad39aae34aed4cc1ae4a2f941b9870917a974ed7c5b6f137188/virtualenv-16.7.8-py2.py3-none-any.whl (3.4MB)\n",
            "\r\u001b[K     |                                | 10kB 16.8MB/s eta 0:00:01\r\u001b[K     |▏                               | 20kB 4.3MB/s eta 0:00:01\r\u001b[K     |▎                               | 30kB 6.1MB/s eta 0:00:01\r\u001b[K     |▍                               | 40kB 7.8MB/s eta 0:00:01\r\u001b[K     |▌                               | 51kB 4.9MB/s eta 0:00:01\r\u001b[K     |▋                               | 61kB 5.8MB/s eta 0:00:01\r\u001b[K     |▊                               | 71kB 6.6MB/s eta 0:00:01\r\u001b[K     |▉                               | 81kB 7.4MB/s eta 0:00:01\r\u001b[K     |▉                               | 92kB 8.1MB/s eta 0:00:01\r\u001b[K     |█                               | 102kB 6.3MB/s eta 0:00:01\r\u001b[K     |█                               | 112kB 6.3MB/s eta 0:00:01\r\u001b[K     |█▏                              | 122kB 6.3MB/s eta 0:00:01\r\u001b[K     |█▎                              | 133kB 6.3MB/s eta 0:00:01\r\u001b[K     |█▍                              | 143kB 6.3MB/s eta 0:00:01\r\u001b[K     |█▌                              | 153kB 6.3MB/s eta 0:00:01\r\u001b[K     |█▋                              | 163kB 6.3MB/s eta 0:00:01\r\u001b[K     |█▋                              | 174kB 6.3MB/s eta 0:00:01\r\u001b[K     |█▊                              | 184kB 6.3MB/s eta 0:00:01\r\u001b[K     |█▉                              | 194kB 6.3MB/s eta 0:00:01\r\u001b[K     |██                              | 204kB 6.3MB/s eta 0:00:01\r\u001b[K     |██                              | 215kB 6.3MB/s eta 0:00:01\r\u001b[K     |██▏                             | 225kB 6.3MB/s eta 0:00:01\r\u001b[K     |██▎                             | 235kB 6.3MB/s eta 0:00:01\r\u001b[K     |██▍                             | 245kB 6.3MB/s eta 0:00:01\r\u001b[K     |██▍                             | 256kB 6.3MB/s eta 0:00:01\r\u001b[K     |██▌                             | 266kB 6.3MB/s eta 0:00:01\r\u001b[K     |██▋                             | 276kB 6.3MB/s eta 0:00:01\r\u001b[K     |██▊                             | 286kB 6.3MB/s eta 0:00:01\r\u001b[K     |██▉                             | 296kB 6.3MB/s eta 0:00:01\r\u001b[K     |███                             | 307kB 6.3MB/s eta 0:00:01\r\u001b[K     |███                             | 317kB 6.3MB/s eta 0:00:01\r\u001b[K     |███▏                            | 327kB 6.3MB/s eta 0:00:01\r\u001b[K     |███▎                            | 337kB 6.3MB/s eta 0:00:01\r\u001b[K     |███▎                            | 348kB 6.3MB/s eta 0:00:01\r\u001b[K     |███▍                            | 358kB 6.3MB/s eta 0:00:01\r\u001b[K     |███▌                            | 368kB 6.3MB/s eta 0:00:01\r\u001b[K     |███▋                            | 378kB 6.3MB/s eta 0:00:01\r\u001b[K     |███▊                            | 389kB 6.3MB/s eta 0:00:01\r\u001b[K     |███▉                            | 399kB 6.3MB/s eta 0:00:01\r\u001b[K     |████                            | 409kB 6.3MB/s eta 0:00:01\r\u001b[K     |████                            | 419kB 6.3MB/s eta 0:00:01\r\u001b[K     |████                            | 430kB 6.3MB/s eta 0:00:01\r\u001b[K     |████▏                           | 440kB 6.3MB/s eta 0:00:01\r\u001b[K     |████▎                           | 450kB 6.3MB/s eta 0:00:01\r\u001b[K     |████▍                           | 460kB 6.3MB/s eta 0:00:01\r\u001b[K     |████▌                           | 471kB 6.3MB/s eta 0:00:01\r\u001b[K     |████▋                           | 481kB 6.3MB/s eta 0:00:01\r\u001b[K     |████▊                           | 491kB 6.3MB/s eta 0:00:01\r\u001b[K     |████▉                           | 501kB 6.3MB/s eta 0:00:01\r\u001b[K     |████▉                           | 512kB 6.3MB/s eta 0:00:01\r\u001b[K     |█████                           | 522kB 6.3MB/s eta 0:00:01\r\u001b[K     |█████                           | 532kB 6.3MB/s eta 0:00:01\r\u001b[K     |█████▏                          | 542kB 6.3MB/s eta 0:00:01\r\u001b[K     |█████▎                          | 552kB 6.3MB/s eta 0:00:01\r\u001b[K     |█████▍                          | 563kB 6.3MB/s eta 0:00:01\r\u001b[K     |█████▌                          | 573kB 6.3MB/s eta 0:00:01\r\u001b[K     |█████▋                          | 583kB 6.3MB/s eta 0:00:01\r\u001b[K     |█████▋                          | 593kB 6.3MB/s eta 0:00:01\r\u001b[K     |█████▊                          | 604kB 6.3MB/s eta 0:00:01\r\u001b[K     |█████▉                          | 614kB 6.3MB/s eta 0:00:01\r\u001b[K     |██████                          | 624kB 6.3MB/s eta 0:00:01\r\u001b[K     |██████                          | 634kB 6.3MB/s eta 0:00:01\r\u001b[K     |██████▏                         | 645kB 6.3MB/s eta 0:00:01\r\u001b[K     |██████▎                         | 655kB 6.3MB/s eta 0:00:01\r\u001b[K     |██████▍                         | 665kB 6.3MB/s eta 0:00:01\r\u001b[K     |██████▌                         | 675kB 6.3MB/s eta 0:00:01\r\u001b[K     |██████▌                         | 686kB 6.3MB/s eta 0:00:01\r\u001b[K     |██████▋                         | 696kB 6.3MB/s eta 0:00:01\r\u001b[K     |██████▊                         | 706kB 6.3MB/s eta 0:00:01\r\u001b[K     |██████▉                         | 716kB 6.3MB/s eta 0:00:01\r\u001b[K     |███████                         | 727kB 6.3MB/s eta 0:00:01\r\u001b[K     |███████                         | 737kB 6.3MB/s eta 0:00:01\r\u001b[K     |███████▏                        | 747kB 6.3MB/s eta 0:00:01\r\u001b[K     |███████▎                        | 757kB 6.3MB/s eta 0:00:01\r\u001b[K     |███████▎                        | 768kB 6.3MB/s eta 0:00:01\r\u001b[K     |███████▍                        | 778kB 6.3MB/s eta 0:00:01\r\u001b[K     |███████▌                        | 788kB 6.3MB/s eta 0:00:01\r\u001b[K     |███████▋                        | 798kB 6.3MB/s eta 0:00:01\r\u001b[K     |███████▊                        | 808kB 6.3MB/s eta 0:00:01\r\u001b[K     |███████▉                        | 819kB 6.3MB/s eta 0:00:01\r\u001b[K     |████████                        | 829kB 6.3MB/s eta 0:00:01\r\u001b[K     |████████                        | 839kB 6.3MB/s eta 0:00:01\r\u001b[K     |████████                        | 849kB 6.3MB/s eta 0:00:01\r\u001b[K     |████████▏                       | 860kB 6.3MB/s eta 0:00:01\r\u001b[K     |████████▎                       | 870kB 6.3MB/s eta 0:00:01\r\u001b[K     |████████▍                       | 880kB 6.3MB/s eta 0:00:01\r\u001b[K     |████████▌                       | 890kB 6.3MB/s eta 0:00:01\r\u001b[K     |████████▋                       | 901kB 6.3MB/s eta 0:00:01\r\u001b[K     |████████▊                       | 911kB 6.3MB/s eta 0:00:01\r\u001b[K     |████████▉                       | 921kB 6.3MB/s eta 0:00:01\r\u001b[K     |█████████                       | 931kB 6.3MB/s eta 0:00:01\r\u001b[K     |█████████                       | 942kB 6.3MB/s eta 0:00:01\r\u001b[K     |█████████                       | 952kB 6.3MB/s eta 0:00:01\r\u001b[K     |█████████▏                      | 962kB 6.3MB/s eta 0:00:01\r\u001b[K     |█████████▎                      | 972kB 6.3MB/s eta 0:00:01\r\u001b[K     |█████████▍                      | 983kB 6.3MB/s eta 0:00:01\r\u001b[K     |█████████▌                      | 993kB 6.3MB/s eta 0:00:01\r\u001b[K     |█████████▋                      | 1.0MB 6.3MB/s eta 0:00:01\r\u001b[K     |█████████▊                      | 1.0MB 6.3MB/s eta 0:00:01\r\u001b[K     |█████████▊                      | 1.0MB 6.3MB/s eta 0:00:01\r\u001b[K     |█████████▉                      | 1.0MB 6.3MB/s eta 0:00:01\r\u001b[K     |██████████                      | 1.0MB 6.3MB/s eta 0:00:01\r\u001b[K     |██████████                      | 1.1MB 6.3MB/s eta 0:00:01\r\u001b[K     |██████████▏                     | 1.1MB 6.3MB/s eta 0:00:01\r\u001b[K     |██████████▎                     | 1.1MB 6.3MB/s eta 0:00:01\r\u001b[K     |██████████▍                     | 1.1MB 6.3MB/s eta 0:00:01\r\u001b[K     |██████████▌                     | 1.1MB 6.3MB/s eta 0:00:01\r\u001b[K     |██████████▌                     | 1.1MB 6.3MB/s eta 0:00:01\r\u001b[K     |██████████▋                     | 1.1MB 6.3MB/s eta 0:00:01\r\u001b[K     |██████████▊                     | 1.1MB 6.3MB/s eta 0:00:01\r\u001b[K     |██████████▉                     | 1.1MB 6.3MB/s eta 0:00:01\r\u001b[K     |███████████                     | 1.1MB 6.3MB/s eta 0:00:01\r\u001b[K     |███████████                     | 1.2MB 6.3MB/s eta 0:00:01\r\u001b[K     |███████████▏                    | 1.2MB 6.3MB/s eta 0:00:01\r\u001b[K     |███████████▎                    | 1.2MB 6.3MB/s eta 0:00:01\r\u001b[K     |███████████▎                    | 1.2MB 6.3MB/s eta 0:00:01\r\u001b[K     |███████████▍                    | 1.2MB 6.3MB/s eta 0:00:01\r\u001b[K     |███████████▌                    | 1.2MB 6.3MB/s eta 0:00:01\r\u001b[K     |███████████▋                    | 1.2MB 6.3MB/s eta 0:00:01\r\u001b[K     |███████████▊                    | 1.2MB 6.3MB/s eta 0:00:01\r\u001b[K     |███████████▉                    | 1.2MB 6.3MB/s eta 0:00:01\r\u001b[K     |████████████                    | 1.2MB 6.3MB/s eta 0:00:01\r\u001b[K     |████████████                    | 1.3MB 6.3MB/s eta 0:00:01\r\u001b[K     |████████████▏                   | 1.3MB 6.3MB/s eta 0:00:01\r\u001b[K     |████████████▏                   | 1.3MB 6.3MB/s eta 0:00:01\r\u001b[K     |████████████▎                   | 1.3MB 6.3MB/s eta 0:00:01\r\u001b[K     |████████████▍                   | 1.3MB 6.3MB/s eta 0:00:01\r\u001b[K     |████████████▌                   | 1.3MB 6.3MB/s eta 0:00:01\r\u001b[K     |████████████▋                   | 1.3MB 6.3MB/s eta 0:00:01\r\u001b[K     |████████████▊                   | 1.3MB 6.3MB/s eta 0:00:01\r\u001b[K     |████████████▉                   | 1.3MB 6.3MB/s eta 0:00:01\r\u001b[K     |█████████████                   | 1.4MB 6.3MB/s eta 0:00:01\r\u001b[K     |█████████████                   | 1.4MB 6.3MB/s eta 0:00:01\r\u001b[K     |█████████████                   | 1.4MB 6.3MB/s eta 0:00:01\r\u001b[K     |█████████████▏                  | 1.4MB 6.3MB/s eta 0:00:01\r\u001b[K     |█████████████▎                  | 1.4MB 6.3MB/s eta 0:00:01\r\u001b[K     |█████████████▍                  | 1.4MB 6.3MB/s eta 0:00:01\r\u001b[K     |█████████████▌                  | 1.4MB 6.3MB/s eta 0:00:01\r\u001b[K     |█████████████▋                  | 1.4MB 6.3MB/s eta 0:00:01\r\u001b[K     |█████████████▊                  | 1.4MB 6.3MB/s eta 0:00:01\r\u001b[K     |█████████████▊                  | 1.4MB 6.3MB/s eta 0:00:01\r\u001b[K     |█████████████▉                  | 1.5MB 6.3MB/s eta 0:00:01\r\u001b[K     |██████████████                  | 1.5MB 6.3MB/s eta 0:00:01\r\u001b[K     |██████████████                  | 1.5MB 6.3MB/s eta 0:00:01\r\u001b[K     |██████████████▏                 | 1.5MB 6.3MB/s eta 0:00:01\r\u001b[K     |██████████████▎                 | 1.5MB 6.3MB/s eta 0:00:01\r\u001b[K     |██████████████▍                 | 1.5MB 6.3MB/s eta 0:00:01\r\u001b[K     |██████████████▌                 | 1.5MB 6.3MB/s eta 0:00:01\r\u001b[K     |██████████████▋                 | 1.5MB 6.3MB/s eta 0:00:01\r\u001b[K     |██████████████▋                 | 1.5MB 6.3MB/s eta 0:00:01\r\u001b[K     |██████████████▊                 | 1.5MB 6.3MB/s eta 0:00:01\r\u001b[K     |██████████████▉                 | 1.6MB 6.3MB/s eta 0:00:01\r\u001b[K     |███████████████                 | 1.6MB 6.3MB/s eta 0:00:01\r\u001b[K     |███████████████                 | 1.6MB 6.3MB/s eta 0:00:01\r\u001b[K     |███████████████▏                | 1.6MB 6.3MB/s eta 0:00:01\r\u001b[K     |███████████████▎                | 1.6MB 6.3MB/s eta 0:00:01\r\u001b[K     |███████████████▍                | 1.6MB 6.3MB/s eta 0:00:01\r\u001b[K     |███████████████▍                | 1.6MB 6.3MB/s eta 0:00:01\r\u001b[K     |███████████████▌                | 1.6MB 6.3MB/s eta 0:00:01\r\u001b[K     |███████████████▋                | 1.6MB 6.3MB/s eta 0:00:01\r\u001b[K     |███████████████▊                | 1.6MB 6.3MB/s eta 0:00:01\r\u001b[K     |███████████████▉                | 1.7MB 6.3MB/s eta 0:00:01\r\u001b[K     |████████████████                | 1.7MB 6.3MB/s eta 0:00:01\r\u001b[K     |████████████████                | 1.7MB 6.3MB/s eta 0:00:01\r\u001b[K     |████████████████▏               | 1.7MB 6.3MB/s eta 0:00:01\r\u001b[K     |████████████████▏               | 1.7MB 6.3MB/s eta 0:00:01\r\u001b[K     |████████████████▎               | 1.7MB 6.3MB/s eta 0:00:01\r\u001b[K     |████████████████▍               | 1.7MB 6.3MB/s eta 0:00:01\r\u001b[K     |████████████████▌               | 1.7MB 6.3MB/s eta 0:00:01\r\u001b[K     |████████████████▋               | 1.7MB 6.3MB/s eta 0:00:01\r\u001b[K     |████████████████▊               | 1.8MB 6.3MB/s eta 0:00:01\r\u001b[K     |████████████████▉               | 1.8MB 6.3MB/s eta 0:00:01\r\u001b[K     |█████████████████               | 1.8MB 6.3MB/s eta 0:00:01\r\u001b[K     |█████████████████               | 1.8MB 6.3MB/s eta 0:00:01\r\u001b[K     |█████████████████               | 1.8MB 6.3MB/s eta 0:00:01\r\u001b[K     |█████████████████▏              | 1.8MB 6.3MB/s eta 0:00:01\r\u001b[K     |█████████████████▎              | 1.8MB 6.3MB/s eta 0:00:01\r\u001b[K     |█████████████████▍              | 1.8MB 6.3MB/s eta 0:00:01\r\u001b[K     |█████████████████▌              | 1.8MB 6.3MB/s eta 0:00:01\r\u001b[K     |█████████████████▋              | 1.8MB 6.3MB/s eta 0:00:01\r\u001b[K     |█████████████████▊              | 1.9MB 6.3MB/s eta 0:00:01\r\u001b[K     |█████████████████▉              | 1.9MB 6.3MB/s eta 0:00:01\r\u001b[K     |█████████████████▉              | 1.9MB 6.3MB/s eta 0:00:01\r\u001b[K     |██████████████████              | 1.9MB 6.3MB/s eta 0:00:01\r\u001b[K     |██████████████████              | 1.9MB 6.3MB/s eta 0:00:01\r\u001b[K     |██████████████████▏             | 1.9MB 6.3MB/s eta 0:00:01\r\u001b[K     |██████████████████▎             | 1.9MB 6.3MB/s eta 0:00:01\r\u001b[K     |██████████████████▍             | 1.9MB 6.3MB/s eta 0:00:01\r\u001b[K     |██████████████████▌             | 1.9MB 6.3MB/s eta 0:00:01\r\u001b[K     |██████████████████▋             | 1.9MB 6.3MB/s eta 0:00:01\r\u001b[K     |██████████████████▋             | 2.0MB 6.3MB/s eta 0:00:01\r\u001b[K     |██████████████████▊             | 2.0MB 6.3MB/s eta 0:00:01\r\u001b[K     |██████████████████▉             | 2.0MB 6.3MB/s eta 0:00:01\r\u001b[K     |███████████████████             | 2.0MB 6.3MB/s eta 0:00:01\r\u001b[K     |███████████████████             | 2.0MB 6.3MB/s eta 0:00:01\r\u001b[K     |███████████████████▏            | 2.0MB 6.3MB/s eta 0:00:01\r\u001b[K     |███████████████████▎            | 2.0MB 6.3MB/s eta 0:00:01\r\u001b[K     |███████████████████▍            | 2.0MB 6.3MB/s eta 0:00:01\r\u001b[K     |███████████████████▍            | 2.0MB 6.3MB/s eta 0:00:01\r\u001b[K     |███████████████████▌            | 2.0MB 6.3MB/s eta 0:00:01\r\u001b[K     |███████████████████▋            | 2.1MB 6.3MB/s eta 0:00:01\r\u001b[K     |███████████████████▊            | 2.1MB 6.3MB/s eta 0:00:01\r\u001b[K     |███████████████████▉            | 2.1MB 6.3MB/s eta 0:00:01\r\u001b[K     |████████████████████            | 2.1MB 6.3MB/s eta 0:00:01\r\u001b[K     |████████████████████            | 2.1MB 6.3MB/s eta 0:00:01\r\u001b[K     |████████████████████▏           | 2.1MB 6.3MB/s eta 0:00:01\r\u001b[K     |████████████████████▎           | 2.1MB 6.3MB/s eta 0:00:01\r\u001b[K     |████████████████████▎           | 2.1MB 6.3MB/s eta 0:00:01\r\u001b[K     |████████████████████▍           | 2.1MB 6.3MB/s eta 0:00:01\r\u001b[K     |████████████████████▌           | 2.2MB 6.3MB/s eta 0:00:01\r\u001b[K     |████████████████████▋           | 2.2MB 6.3MB/s eta 0:00:01\r\u001b[K     |████████████████████▊           | 2.2MB 6.3MB/s eta 0:00:01\r\u001b[K     |████████████████████▉           | 2.2MB 6.3MB/s eta 0:00:01\r\u001b[K     |█████████████████████           | 2.2MB 6.3MB/s eta 0:00:01\r\u001b[K     |█████████████████████           | 2.2MB 6.3MB/s eta 0:00:01\r\u001b[K     |█████████████████████           | 2.2MB 6.3MB/s eta 0:00:01\r\u001b[K     |█████████████████████▏          | 2.2MB 6.3MB/s eta 0:00:01\r\u001b[K     |█████████████████████▎          | 2.2MB 6.3MB/s eta 0:00:01\r\u001b[K     |█████████████████████▍          | 2.2MB 6.3MB/s eta 0:00:01\r\u001b[K     |█████████████████████▌          | 2.3MB 6.3MB/s eta 0:00:01\r\u001b[K     |█████████████████████▋          | 2.3MB 6.3MB/s eta 0:00:01\r\u001b[K     |█████████████████████▊          | 2.3MB 6.3MB/s eta 0:00:01\r\u001b[K     |█████████████████████▉          | 2.3MB 6.3MB/s eta 0:00:01\r\u001b[K     |█████████████████████▉          | 2.3MB 6.3MB/s eta 0:00:01\r\u001b[K     |██████████████████████          | 2.3MB 6.3MB/s eta 0:00:01\r\u001b[K     |██████████████████████          | 2.3MB 6.3MB/s eta 0:00:01\r\u001b[K     |██████████████████████▏         | 2.3MB 6.3MB/s eta 0:00:01\r\u001b[K     |██████████████████████▎         | 2.3MB 6.3MB/s eta 0:00:01\r\u001b[K     |██████████████████████▍         | 2.3MB 6.3MB/s eta 0:00:01\r\u001b[K     |██████████████████████▌         | 2.4MB 6.3MB/s eta 0:00:01\r\u001b[K     |██████████████████████▋         | 2.4MB 6.3MB/s eta 0:00:01\r\u001b[K     |██████████████████████▋         | 2.4MB 6.3MB/s eta 0:00:01\r\u001b[K     |██████████████████████▊         | 2.4MB 6.3MB/s eta 0:00:01\r\u001b[K     |██████████████████████▉         | 2.4MB 6.3MB/s eta 0:00:01\r\u001b[K     |███████████████████████         | 2.4MB 6.3MB/s eta 0:00:01\r\u001b[K     |███████████████████████         | 2.4MB 6.3MB/s eta 0:00:01\r\u001b[K     |███████████████████████▏        | 2.4MB 6.3MB/s eta 0:00:01\r\u001b[K     |███████████████████████▎        | 2.4MB 6.3MB/s eta 0:00:01\r\u001b[K     |███████████████████████▍        | 2.4MB 6.3MB/s eta 0:00:01\r\u001b[K     |███████████████████████▌        | 2.5MB 6.3MB/s eta 0:00:01\r\u001b[K     |███████████████████████▌        | 2.5MB 6.3MB/s eta 0:00:01\r\u001b[K     |███████████████████████▋        | 2.5MB 6.3MB/s eta 0:00:01\r\u001b[K     |███████████████████████▊        | 2.5MB 6.3MB/s eta 0:00:01\r\u001b[K     |███████████████████████▉        | 2.5MB 6.3MB/s eta 0:00:01\r\u001b[K     |████████████████████████        | 2.5MB 6.3MB/s eta 0:00:01\r\u001b[K     |████████████████████████        | 2.5MB 6.3MB/s eta 0:00:01\r\u001b[K     |████████████████████████▏       | 2.5MB 6.3MB/s eta 0:00:01\r\u001b[K     |████████████████████████▎       | 2.5MB 6.3MB/s eta 0:00:01\r\u001b[K     |████████████████████████▎       | 2.5MB 6.3MB/s eta 0:00:01\r\u001b[K     |████████████████████████▍       | 2.6MB 6.3MB/s eta 0:00:01\r\u001b[K     |████████████████████████▌       | 2.6MB 6.3MB/s eta 0:00:01\r\u001b[K     |████████████████████████▋       | 2.6MB 6.3MB/s eta 0:00:01\r\u001b[K     |████████████████████████▊       | 2.6MB 6.3MB/s eta 0:00:01\r\u001b[K     |████████████████████████▉       | 2.6MB 6.3MB/s eta 0:00:01\r\u001b[K     |█████████████████████████       | 2.6MB 6.3MB/s eta 0:00:01\r\u001b[K     |█████████████████████████       | 2.6MB 6.3MB/s eta 0:00:01\r\u001b[K     |█████████████████████████       | 2.6MB 6.3MB/s eta 0:00:01\r\u001b[K     |█████████████████████████▏      | 2.6MB 6.3MB/s eta 0:00:01\r\u001b[K     |█████████████████████████▎      | 2.7MB 6.3MB/s eta 0:00:01\r\u001b[K     |█████████████████████████▍      | 2.7MB 6.3MB/s eta 0:00:01\r\u001b[K     |█████████████████████████▌      | 2.7MB 6.3MB/s eta 0:00:01\r\u001b[K     |█████████████████████████▋      | 2.7MB 6.3MB/s eta 0:00:01\r\u001b[K     |█████████████████████████▊      | 2.7MB 6.3MB/s eta 0:00:01\r\u001b[K     |█████████████████████████▉      | 2.7MB 6.3MB/s eta 0:00:01\r\u001b[K     |██████████████████████████      | 2.7MB 6.3MB/s eta 0:00:01\r\u001b[K     |██████████████████████████      | 2.7MB 6.3MB/s eta 0:00:01\r\u001b[K     |██████████████████████████      | 2.7MB 6.3MB/s eta 0:00:01\r\u001b[K     |██████████████████████████▏     | 2.7MB 6.3MB/s eta 0:00:01\r\u001b[K     |██████████████████████████▎     | 2.8MB 6.3MB/s eta 0:00:01\r\u001b[K     |██████████████████████████▍     | 2.8MB 6.3MB/s eta 0:00:01\r\u001b[K     |██████████████████████████▌     | 2.8MB 6.3MB/s eta 0:00:01\r\u001b[K     |██████████████████████████▋     | 2.8MB 6.3MB/s eta 0:00:01\r\u001b[K     |██████████████████████████▊     | 2.8MB 6.3MB/s eta 0:00:01\r\u001b[K     |██████████████████████████▊     | 2.8MB 6.3MB/s eta 0:00:01\r\u001b[K     |██████████████████████████▉     | 2.8MB 6.3MB/s eta 0:00:01\r\u001b[K     |███████████████████████████     | 2.8MB 6.3MB/s eta 0:00:01\r\u001b[K     |███████████████████████████     | 2.8MB 6.3MB/s eta 0:00:01\r\u001b[K     |███████████████████████████▏    | 2.8MB 6.3MB/s eta 0:00:01\r\u001b[K     |███████████████████████████▎    | 2.9MB 6.3MB/s eta 0:00:01\r\u001b[K     |███████████████████████████▍    | 2.9MB 6.3MB/s eta 0:00:01\r\u001b[K     |███████████████████████████▌    | 2.9MB 6.3MB/s eta 0:00:01\r\u001b[K     |███████████████████████████▌    | 2.9MB 6.3MB/s eta 0:00:01\r\u001b[K     |███████████████████████████▋    | 2.9MB 6.3MB/s eta 0:00:01\r\u001b[K     |███████████████████████████▊    | 2.9MB 6.3MB/s eta 0:00:01\r\u001b[K     |███████████████████████████▉    | 2.9MB 6.3MB/s eta 0:00:01\r\u001b[K     |████████████████████████████    | 2.9MB 6.3MB/s eta 0:00:01\r\u001b[K     |████████████████████████████    | 2.9MB 6.3MB/s eta 0:00:01\r\u001b[K     |████████████████████████████▏   | 2.9MB 6.3MB/s eta 0:00:01\r\u001b[K     |████████████████████████████▎   | 3.0MB 6.3MB/s eta 0:00:01\r\u001b[K     |████████████████████████████▎   | 3.0MB 6.3MB/s eta 0:00:01\r\u001b[K     |████████████████████████████▍   | 3.0MB 6.3MB/s eta 0:00:01\r\u001b[K     |████████████████████████████▌   | 3.0MB 6.3MB/s eta 0:00:01\r\u001b[K     |████████████████████████████▋   | 3.0MB 6.3MB/s eta 0:00:01\r\u001b[K     |████████████████████████████▊   | 3.0MB 6.3MB/s eta 0:00:01\r\u001b[K     |████████████████████████████▉   | 3.0MB 6.3MB/s eta 0:00:01\r\u001b[K     |█████████████████████████████   | 3.0MB 6.3MB/s eta 0:00:01\r\u001b[K     |█████████████████████████████   | 3.0MB 6.3MB/s eta 0:00:01\r\u001b[K     |█████████████████████████████▏  | 3.1MB 6.3MB/s eta 0:00:01\r\u001b[K     |█████████████████████████████▏  | 3.1MB 6.3MB/s eta 0:00:01\r\u001b[K     |█████████████████████████████▎  | 3.1MB 6.3MB/s eta 0:00:01\r\u001b[K     |█████████████████████████████▍  | 3.1MB 6.3MB/s eta 0:00:01\r\u001b[K     |█████████████████████████████▌  | 3.1MB 6.3MB/s eta 0:00:01\r\u001b[K     |█████████████████████████████▋  | 3.1MB 6.3MB/s eta 0:00:01\r\u001b[K     |█████████████████████████████▊  | 3.1MB 6.3MB/s eta 0:00:01\r\u001b[K     |█████████████████████████████▉  | 3.1MB 6.3MB/s eta 0:00:01\r\u001b[K     |██████████████████████████████  | 3.1MB 6.3MB/s eta 0:00:01\r\u001b[K     |██████████████████████████████  | 3.1MB 6.3MB/s eta 0:00:01\r\u001b[K     |██████████████████████████████  | 3.2MB 6.3MB/s eta 0:00:01\r\u001b[K     |██████████████████████████████▏ | 3.2MB 6.3MB/s eta 0:00:01\r\u001b[K     |██████████████████████████████▎ | 3.2MB 6.3MB/s eta 0:00:01\r\u001b[K     |██████████████████████████████▍ | 3.2MB 6.3MB/s eta 0:00:01\r\u001b[K     |██████████████████████████████▌ | 3.2MB 6.3MB/s eta 0:00:01\r\u001b[K     |██████████████████████████████▋ | 3.2MB 6.3MB/s eta 0:00:01\r\u001b[K     |██████████████████████████████▊ | 3.2MB 6.3MB/s eta 0:00:01\r\u001b[K     |██████████████████████████████▊ | 3.2MB 6.3MB/s eta 0:00:01\r\u001b[K     |██████████████████████████████▉ | 3.2MB 6.3MB/s eta 0:00:01\r\u001b[K     |███████████████████████████████ | 3.2MB 6.3MB/s eta 0:00:01\r\u001b[K     |███████████████████████████████ | 3.3MB 6.3MB/s eta 0:00:01\r\u001b[K     |███████████████████████████████▏| 3.3MB 6.3MB/s eta 0:00:01\r\u001b[K     |███████████████████████████████▎| 3.3MB 6.3MB/s eta 0:00:01\r\u001b[K     |███████████████████████████████▍| 3.3MB 6.3MB/s eta 0:00:01\r\u001b[K     |███████████████████████████████▌| 3.3MB 6.3MB/s eta 0:00:01\r\u001b[K     |███████████████████████████████▋| 3.3MB 6.3MB/s eta 0:00:01\r\u001b[K     |███████████████████████████████▋| 3.3MB 6.3MB/s eta 0:00:01\r\u001b[K     |███████████████████████████████▊| 3.3MB 6.3MB/s eta 0:00:01\r\u001b[K     |███████████████████████████████▉| 3.3MB 6.3MB/s eta 0:00:01\r\u001b[K     |████████████████████████████████| 3.3MB 6.3MB/s eta 0:00:01\r\u001b[K     |████████████████████████████████| 3.4MB 6.3MB/s \n",
            "\u001b[?25hInstalling collected packages: virtualenv\n",
            "Successfully installed virtualenv-16.7.8\n",
            "Using base prefix '/usr'\n",
            "New python executable in /content/theanoEnv/bin/python3\n",
            "Also creating executable in /content/theanoEnv/bin/python\n",
            "Installing setuptools, pip, wheel...\n",
            "done.\n"
          ],
          "name": "stdout"
        }
      ]
    },
    {
      "cell_type": "markdown",
      "metadata": {
        "id": "uISJBt6UZNiu",
        "colab_type": "text"
      },
      "source": [
        "creating virtual enviorment and activating the enviorment"
      ]
    },
    {
      "cell_type": "code",
      "metadata": {
        "id": "H5PYuVWFZNQW",
        "colab_type": "code",
        "colab": {
          "base_uri": "https://localhost:8080/",
          "height": 101
        },
        "outputId": "cc63236c-1db3-4a7c-8dfc-bbf36e60a655"
      },
      "source": [
        "!virtualenv /content/Ds   #here deepspeech is edited to Ds.\n",
        "!source /content/Ds/bin/activate"
      ],
      "execution_count": 7,
      "outputs": [
        {
          "output_type": "stream",
          "text": [
            "Using base prefix '/usr'\n",
            "New python executable in /content/Ds/bin/python3\n",
            "Also creating executable in /content/Ds/bin/python\n",
            "Installing setuptools, pip, wheel...\n",
            "done.\n"
          ],
          "name": "stdout"
        }
      ]
    },
    {
      "cell_type": "markdown",
      "metadata": {
        "id": "-Xj5jAuAZVfy",
        "colab_type": "text"
      },
      "source": [
        "installing deepspeech and upgrading it, if not upgraded."
      ]
    },
    {
      "cell_type": "code",
      "metadata": {
        "id": "2Zl52Oq-ZVSi",
        "colab_type": "code",
        "colab": {
          "base_uri": "https://localhost:8080/",
          "height": 238
        },
        "outputId": "80ae6c83-b90b-4e20-883d-f18fa2b4237d"
      },
      "source": [
        "!pip3 install deepspeech-gpu\n",
        "!pip3 install --upgrade deepspeech"
      ],
      "execution_count": 8,
      "outputs": [
        {
          "output_type": "stream",
          "text": [
            "Collecting deepspeech-gpu\n",
            "\u001b[?25l  Downloading https://files.pythonhosted.org/packages/77/10/288593c577f0d2b2152058286ec4c6284930df38756f5f2e9f1155e66ecc/deepspeech_gpu-0.6.0-cp36-cp36m-manylinux1_x86_64.whl (18.7MB)\n",
            "\u001b[K     |████████████████████████████████| 18.7MB 424kB/s \n",
            "\u001b[?25hRequirement already satisfied: numpy>=1.7.0 in /usr/local/lib/python3.6/dist-packages (from deepspeech-gpu) (1.17.4)\n",
            "Installing collected packages: deepspeech-gpu\n",
            "Successfully installed deepspeech-gpu-0.6.0\n",
            "Collecting deepspeech\n",
            "\u001b[?25l  Downloading https://files.pythonhosted.org/packages/26/f4/1ef0397097e8a8bbb7e24caabecbdb226b4e027e5018e9353ef65af14672/deepspeech-0.6.0-cp36-cp36m-manylinux1_x86_64.whl (9.6MB)\n",
            "\u001b[K     |████████████████████████████████| 9.6MB 5.9MB/s \n",
            "\u001b[?25hRequirement already satisfied, skipping upgrade: numpy>=1.7.0 in /usr/local/lib/python3.6/dist-packages (from deepspeech) (1.17.4)\n",
            "Installing collected packages: deepspeech\n",
            "Successfully installed deepspeech-0.6.0\n"
          ],
          "name": "stdout"
        }
      ]
    },
    {
      "cell_type": "markdown",
      "metadata": {
        "id": "0YNJWjLPZdeJ",
        "colab_type": "text"
      },
      "source": [
        "clone the deepspeech repository"
      ]
    },
    {
      "cell_type": "code",
      "metadata": {
        "id": "FHRmxI-mZdO5",
        "colab_type": "code",
        "colab": {
          "base_uri": "https://localhost:8080/",
          "height": 134
        },
        "outputId": "e9ae3ece-cc0a-4f79-f96f-bfbefa2c2c2a"
      },
      "source": [
        "!git clone https://github.com/mozilla/DeepSpeech"
      ],
      "execution_count": 9,
      "outputs": [
        {
          "output_type": "stream",
          "text": [
            "Cloning into 'DeepSpeech'...\n",
            "remote: Enumerating objects: 65, done.\u001b[K\n",
            "remote: Counting objects: 100% (65/65), done.\u001b[K\n",
            "remote: Compressing objects: 100% (51/51), done.\u001b[K\n",
            "remote: Total 14805 (delta 29), reused 31 (delta 13), pack-reused 14740\u001b[K\n",
            "Receiving objects: 100% (14805/14805), 46.39 MiB | 19.25 MiB/s, done.\n",
            "Resolving deltas: 100% (9801/9801), done.\n"
          ],
          "name": "stdout"
        }
      ]
    },
    {
      "cell_type": "markdown",
      "metadata": {
        "id": "krDKWOhjZidS",
        "colab_type": "text"
      },
      "source": [
        "installing requirement dependencies using pip3"
      ]
    },
    {
      "cell_type": "code",
      "metadata": {
        "id": "1-a36-ebZi6g",
        "colab_type": "code",
        "colab": {
          "base_uri": "https://localhost:8080/",
          "height": 994
        },
        "outputId": "4dfb9715-d5d9-409c-e19f-a5ce0d246d41"
      },
      "source": [
        "%cd DeepSpeech\n",
        "!pip3 install -r requirements.txt"
      ],
      "execution_count": 1,
      "outputs": [
        {
          "output_type": "stream",
          "text": [
            "/content/DeepSpeech\n",
            "Requirement already satisfied: tensorflow==1.14.0 in /usr/local/lib/python3.6/dist-packages (from -r requirements.txt (line 2)) (1.14.0)\n",
            "Requirement already satisfied: numpy==1.15.4 in /usr/local/lib/python3.6/dist-packages (from -r requirements.txt (line 3)) (1.15.4)\n",
            "Requirement already satisfied: progressbar2 in /usr/local/lib/python3.6/dist-packages (from -r requirements.txt (line 4)) (3.38.0)\n",
            "Requirement already satisfied: pandas in /usr/local/lib/python3.6/dist-packages (from -r requirements.txt (line 5)) (0.25.3)\n",
            "Requirement already satisfied: six in /usr/local/lib/python3.6/dist-packages (from -r requirements.txt (line 6)) (1.12.0)\n",
            "Requirement already satisfied: pyxdg in /usr/local/lib/python3.6/dist-packages (from -r requirements.txt (line 7)) (0.26)\n",
            "Requirement already satisfied: attrdict in /usr/local/lib/python3.6/dist-packages (from -r requirements.txt (line 8)) (2.0.1)\n",
            "Requirement already satisfied: absl-py in /usr/local/lib/python3.6/dist-packages (from -r requirements.txt (line 9)) (0.8.1)\n",
            "Requirement already satisfied: setuptools in /usr/local/lib/python3.6/dist-packages (from -r requirements.txt (line 12)) (41.6.0)\n",
            "Requirement already satisfied: webrtcvad in /usr/local/lib/python3.6/dist-packages (from -r requirements.txt (line 15)) (2.0.10)\n",
            "Requirement already satisfied: sox in /usr/local/lib/python3.6/dist-packages (from -r requirements.txt (line 18)) (1.3.7)\n",
            "Requirement already satisfied: bs4 in /usr/local/lib/python3.6/dist-packages (from -r requirements.txt (line 19)) (0.0.1)\n",
            "Requirement already satisfied: requests in /usr/local/lib/python3.6/dist-packages (from -r requirements.txt (line 20)) (2.21.0)\n",
            "Requirement already satisfied: librosa in /usr/local/lib/python3.6/dist-packages (from -r requirements.txt (line 21)) (0.6.3)\n",
            "Requirement already satisfied: soundfile in /usr/local/lib/python3.6/dist-packages (from -r requirements.txt (line 22)) (0.10.3.post1)\n",
            "Requirement already satisfied: paramiko>=2.1 in /usr/local/lib/python3.6/dist-packages (from -r requirements.txt (line 25)) (2.7.0)\n",
            "Requirement already satisfied: scipy in /usr/local/lib/python3.6/dist-packages (from -r requirements.txt (line 26)) (1.3.2)\n",
            "Requirement already satisfied: matplotlib in /usr/local/lib/python3.6/dist-packages (from -r requirements.txt (line 27)) (3.1.1)\n",
            "Requirement already satisfied: grpcio>=1.8.6 in /usr/local/lib/python3.6/dist-packages (from tensorflow==1.14.0->-r requirements.txt (line 2)) (1.15.0)\n",
            "Requirement already satisfied: keras-preprocessing>=1.0.5 in /usr/local/lib/python3.6/dist-packages (from tensorflow==1.14.0->-r requirements.txt (line 2)) (1.1.0)\n",
            "Requirement already satisfied: wrapt>=1.11.1 in /usr/local/lib/python3.6/dist-packages (from tensorflow==1.14.0->-r requirements.txt (line 2)) (1.11.2)\n",
            "Requirement already satisfied: astor>=0.6.0 in /usr/local/lib/python3.6/dist-packages (from tensorflow==1.14.0->-r requirements.txt (line 2)) (0.8.0)\n",
            "Requirement already satisfied: tensorflow-estimator<1.15.0rc0,>=1.14.0rc0 in /usr/local/lib/python3.6/dist-packages (from tensorflow==1.14.0->-r requirements.txt (line 2)) (1.14.0)\n",
            "Requirement already satisfied: termcolor>=1.1.0 in /usr/local/lib/python3.6/dist-packages (from tensorflow==1.14.0->-r requirements.txt (line 2)) (1.1.0)\n",
            "Requirement already satisfied: keras-applications>=1.0.6 in /usr/local/lib/python3.6/dist-packages (from tensorflow==1.14.0->-r requirements.txt (line 2)) (1.0.8)\n",
            "Requirement already satisfied: google-pasta>=0.1.6 in /usr/local/lib/python3.6/dist-packages (from tensorflow==1.14.0->-r requirements.txt (line 2)) (0.1.8)\n",
            "Requirement already satisfied: protobuf>=3.6.1 in /usr/local/lib/python3.6/dist-packages (from tensorflow==1.14.0->-r requirements.txt (line 2)) (3.10.0)\n",
            "Requirement already satisfied: tensorboard<1.15.0,>=1.14.0 in /usr/local/lib/python3.6/dist-packages (from tensorflow==1.14.0->-r requirements.txt (line 2)) (1.14.0)\n",
            "Requirement already satisfied: wheel>=0.26 in /usr/local/lib/python3.6/dist-packages (from tensorflow==1.14.0->-r requirements.txt (line 2)) (0.33.6)\n",
            "Requirement already satisfied: gast>=0.2.0 in /usr/local/lib/python3.6/dist-packages (from tensorflow==1.14.0->-r requirements.txt (line 2)) (0.2.2)\n",
            "Requirement already satisfied: python-utils>=2.3.0 in /usr/local/lib/python3.6/dist-packages (from progressbar2->-r requirements.txt (line 4)) (2.3.0)\n",
            "Requirement already satisfied: pytz>=2017.2 in /usr/local/lib/python3.6/dist-packages (from pandas->-r requirements.txt (line 5)) (2018.9)\n",
            "Requirement already satisfied: python-dateutil>=2.6.1 in /usr/local/lib/python3.6/dist-packages (from pandas->-r requirements.txt (line 5)) (2.6.1)\n",
            "Requirement already satisfied: beautifulsoup4 in /usr/local/lib/python3.6/dist-packages (from bs4->-r requirements.txt (line 19)) (4.6.3)\n",
            "Requirement already satisfied: idna<2.9,>=2.5 in /usr/local/lib/python3.6/dist-packages (from requests->-r requirements.txt (line 20)) (2.8)\n",
            "Requirement already satisfied: certifi>=2017.4.17 in /usr/local/lib/python3.6/dist-packages (from requests->-r requirements.txt (line 20)) (2019.9.11)\n",
            "Requirement already satisfied: chardet<3.1.0,>=3.0.2 in /usr/local/lib/python3.6/dist-packages (from requests->-r requirements.txt (line 20)) (3.0.4)\n",
            "Requirement already satisfied: urllib3<1.25,>=1.21.1 in /usr/local/lib/python3.6/dist-packages (from requests->-r requirements.txt (line 20)) (1.24.3)\n",
            "Requirement already satisfied: numba>=0.38.0 in /usr/local/lib/python3.6/dist-packages (from librosa->-r requirements.txt (line 21)) (0.40.1)\n",
            "Requirement already satisfied: scikit-learn!=0.19.0,>=0.14.0 in /usr/local/lib/python3.6/dist-packages (from librosa->-r requirements.txt (line 21)) (0.21.3)\n",
            "Requirement already satisfied: joblib>=0.12 in /usr/local/lib/python3.6/dist-packages (from librosa->-r requirements.txt (line 21)) (0.14.0)\n",
            "Requirement already satisfied: resampy>=0.2.0 in /usr/local/lib/python3.6/dist-packages (from librosa->-r requirements.txt (line 21)) (0.2.2)\n",
            "Requirement already satisfied: audioread>=2.0.0 in /usr/local/lib/python3.6/dist-packages (from librosa->-r requirements.txt (line 21)) (2.1.8)\n",
            "Requirement already satisfied: decorator>=3.0.0 in /usr/local/lib/python3.6/dist-packages (from librosa->-r requirements.txt (line 21)) (4.4.1)\n",
            "Requirement already satisfied: cffi>=1.0 in /usr/local/lib/python3.6/dist-packages (from soundfile->-r requirements.txt (line 22)) (1.13.2)\n",
            "Requirement already satisfied: cryptography>=2.5 in /usr/local/lib/python3.6/dist-packages (from paramiko>=2.1->-r requirements.txt (line 25)) (2.8)\n",
            "Requirement already satisfied: pynacl>=1.0.1 in /usr/local/lib/python3.6/dist-packages (from paramiko>=2.1->-r requirements.txt (line 25)) (1.3.0)\n",
            "Requirement already satisfied: bcrypt>=3.1.3 in /usr/local/lib/python3.6/dist-packages (from paramiko>=2.1->-r requirements.txt (line 25)) (3.1.7)\n",
            "Requirement already satisfied: cycler>=0.10 in /usr/local/lib/python3.6/dist-packages (from matplotlib->-r requirements.txt (line 27)) (0.10.0)\n",
            "Requirement already satisfied: pyparsing!=2.0.4,!=2.1.2,!=2.1.6,>=2.0.1 in /usr/local/lib/python3.6/dist-packages (from matplotlib->-r requirements.txt (line 27)) (2.4.5)\n",
            "Requirement already satisfied: kiwisolver>=1.0.1 in /usr/local/lib/python3.6/dist-packages (from matplotlib->-r requirements.txt (line 27)) (1.1.0)\n",
            "Requirement already satisfied: h5py in /usr/local/lib/python3.6/dist-packages (from keras-applications>=1.0.6->tensorflow==1.14.0->-r requirements.txt (line 2)) (2.8.0)\n",
            "Requirement already satisfied: werkzeug>=0.11.15 in /usr/local/lib/python3.6/dist-packages (from tensorboard<1.15.0,>=1.14.0->tensorflow==1.14.0->-r requirements.txt (line 2)) (0.16.0)\n",
            "Requirement already satisfied: markdown>=2.6.8 in /usr/local/lib/python3.6/dist-packages (from tensorboard<1.15.0,>=1.14.0->tensorflow==1.14.0->-r requirements.txt (line 2)) (3.1.1)\n",
            "Requirement already satisfied: llvmlite>=0.25.0dev0 in /usr/local/lib/python3.6/dist-packages (from numba>=0.38.0->librosa->-r requirements.txt (line 21)) (0.30.0)\n",
            "Requirement already satisfied: pycparser in /usr/local/lib/python3.6/dist-packages (from cffi>=1.0->soundfile->-r requirements.txt (line 22)) (2.19)\n"
          ],
          "name": "stdout"
        }
      ]
    },
    {
      "cell_type": "markdown",
      "metadata": {
        "id": "X_2qheRfZwkv",
        "colab_type": "text"
      },
      "source": [
        "install ds_ctcdecoder python package. ds_ctcdecoder is used to decode deepspeech model output(audio) to text."
      ]
    },
    {
      "cell_type": "code",
      "metadata": {
        "id": "5sweuXWSaULR",
        "colab_type": "code",
        "colab": {
          "base_uri": "https://localhost:8080/",
          "height": 138
        },
        "outputId": "d94fb062-9216-4eb4-ea37-4cafd3e32648"
      },
      "source": [
        "!pip3 install $(python3 util/taskcluster.py --decoder)"
      ],
      "execution_count": 2,
      "outputs": [
        {
          "output_type": "stream",
          "text": [
            "Collecting ds-ctcdecoder==0.6.0\n",
            "\u001b[?25l  Downloading https://community-tc.services.mozilla.com/api/index/v1/task/project.deepspeech.deepspeech.native_client.v0.6.0.cpu-ctc/artifacts/public/ds_ctcdecoder-0.6.0-cp36-cp36m-manylinux1_x86_64.whl (5.6MB)\n",
            "\u001b[K     |████████████████████████████████| 5.6MB 377kB/s \n",
            "\u001b[?25hRequirement already satisfied: numpy>=1.7.0 in /usr/local/lib/python3.6/dist-packages (from ds-ctcdecoder==0.6.0) (1.15.4)\n",
            "Installing collected packages: ds-ctcdecoder\n",
            "Successfully installed ds-ctcdecoder-0.6.0\n"
          ],
          "name": "stdout"
        }
      ]
    },
    {
      "cell_type": "markdown",
      "metadata": {
        "id": "5-oyluPhbPg3",
        "colab_type": "text"
      },
      "source": [
        "train data"
      ]
    },
    {
      "cell_type": "code",
      "metadata": {
        "id": "3qAIevKbbP5V",
        "colab_type": "code",
        "colab": {
          "base_uri": "https://localhost:8080/",
          "height": 50
        },
        "outputId": "bd9b419d-7185-4a0c-970f-a3985290bf58"
      },
      "source": [
        "! python /content/jw/utilities/support_scripts/createCSV.py --audio_path \"/content/jw/validated_audio_data/non_sales_validated\" --csv_output_path '/content/jw/data1/train/'  --csv_file_name 'train.csv'"
      ],
      "execution_count": 8,
      "outputs": [
        {
          "output_type": "stream",
          "text": [
            "totalFiles=226\n",
            "Successfully created CSV file train.csv at /content/jw/data1/train/\n"
          ],
          "name": "stdout"
        }
      ]
    },
    {
      "cell_type": "markdown",
      "metadata": {
        "id": "EXW2r4qmckNN",
        "colab_type": "text"
      },
      "source": [
        "test data"
      ]
    },
    {
      "cell_type": "code",
      "metadata": {
        "id": "lNgYWFfzckut",
        "colab_type": "code",
        "colab": {
          "base_uri": "https://localhost:8080/",
          "height": 50
        },
        "outputId": "6f571df3-b6b3-4539-fdb5-f88e95e4c0cf"
      },
      "source": [
        "! python /content/jw/utilities/support_scripts/createCSV.py --audio_path \"/content/jw/validated_audio_data/sales_validated/test_data/\" --csv_output_path '/content/jw/data1/test/'  --csv_file_name 'test.csv'"
      ],
      "execution_count": 9,
      "outputs": [
        {
          "output_type": "stream",
          "text": [
            "totalFiles=32\n",
            "Successfully created CSV file test.csv at /content/jw/data1/test/\n"
          ],
          "name": "stdout"
        }
      ]
    },
    {
      "cell_type": "markdown",
      "metadata": {
        "id": "zch9OI2dclL1",
        "colab_type": "text"
      },
      "source": [
        "dev data"
      ]
    },
    {
      "cell_type": "code",
      "metadata": {
        "id": "lusOeBh7clj1",
        "colab_type": "code",
        "colab": {
          "base_uri": "https://localhost:8080/",
          "height": 50
        },
        "outputId": "a7d8c757-9414-42b1-827c-79fc6f21f9f8"
      },
      "source": [
        "! python /content/jw/utilities/support_scripts/createCSV.py --audio_path \"/content/jw/validated_audio_data/sales_validated/dev_data/\" --csv_output_path '/content/jw/data1/dev/'  --csv_file_name 'dev.csv'"
      ],
      "execution_count": 10,
      "outputs": [
        {
          "output_type": "stream",
          "text": [
            "totalFiles=72\n",
            "Successfully created CSV file dev.csv at /content/jw/data1/dev/\n"
          ],
          "name": "stdout"
        }
      ]
    },
    {
      "cell_type": "markdown",
      "metadata": {
        "id": "zqEretNUhISg",
        "colab_type": "text"
      },
      "source": [
        "generateLMtext.py file "
      ]
    },
    {
      "cell_type": "code",
      "metadata": {
        "id": "oID6EQP3hIF6",
        "colab_type": "code",
        "colab": {
          "base_uri": "https://localhost:8080/",
          "height": 50
        },
        "outputId": "a8f8d298-3939-499b-f2c1-492d0ffae46d"
      },
      "source": [
        "!python /content/jw/utilities/support_scripts/generateLMText.py --audio_path \"/content/jw/validated_audio_data/\" --lm_output_path '/content/jw/lm_word/' --lm_file_name 'word.txt'"
      ],
      "execution_count": 11,
      "outputs": [
        {
          "output_type": "stream",
          "text": [
            "totalFiles=330\n",
            "Successfully created lm file word.txt at /content/jw/lm_word/\n"
          ],
          "name": "stdout"
        }
      ]
    },
    {
      "cell_type": "markdown",
      "metadata": {
        "id": "ROGlpFAgjvi0",
        "colab_type": "text"
      },
      "source": [
        "#kenLM"
      ]
    },
    {
      "cell_type": "code",
      "metadata": {
        "id": "pm5WFjUnjvUF",
        "colab_type": "code",
        "colab": {
          "base_uri": "https://localhost:8080/",
          "height": 1000
        },
        "outputId": "54e79453-3b98-43a7-8002-6bc14bc4235a"
      },
      "source": [
        "%cd native_client\n",
        "%rm -rf kenlm \\\n",
        "    && git clone --depth 1 https://github.com/kpu/kenlm && cd kenlm \\\n",
        "    && mkdir -p build \\\n",
        "    && cd build \\\n",
        "    && cmake .. \\\n",
        "    && make -j 4\n"
      ],
      "execution_count": 12,
      "outputs": [
        {
          "output_type": "stream",
          "text": [
            "/content/DeepSpeech/native_client\n",
            "Cloning into 'kenlm'...\n",
            "remote: Enumerating objects: 312, done.\u001b[K\n",
            "remote: Counting objects: 100% (312/312), done.\u001b[K\n",
            "remote: Compressing objects: 100% (300/300), done.\u001b[K\n",
            "remote: Total 312 (delta 9), reused 73 (delta 4), pack-reused 0\u001b[K\n",
            "Receiving objects: 100% (312/312), 483.90 KiB | 1.26 MiB/s, done.\n",
            "Resolving deltas: 100% (9/9), done.\n",
            "-- The C compiler identification is GNU 7.4.0\n",
            "-- The CXX compiler identification is GNU 7.4.0\n",
            "-- Check for working C compiler: /usr/bin/cc\n",
            "-- Check for working C compiler: /usr/bin/cc -- works\n",
            "-- Detecting C compiler ABI info\n",
            "-- Detecting C compiler ABI info - done\n",
            "-- Detecting C compile features\n",
            "-- Detecting C compile features - done\n",
            "-- Check for working CXX compiler: /usr/bin/c++\n",
            "-- Check for working CXX compiler: /usr/bin/c++ -- works\n",
            "-- Detecting CXX compiler ABI info\n",
            "-- Detecting CXX compiler ABI info - done\n",
            "-- Detecting CXX compile features\n",
            "-- Detecting CXX compile features - done\n",
            "-- Looking for pthread.h\n",
            "-- Looking for pthread.h - found\n",
            "-- Looking for pthread_create\n",
            "-- Looking for pthread_create - not found\n",
            "-- Looking for pthread_create in pthreads\n",
            "-- Looking for pthread_create in pthreads - not found\n",
            "-- Looking for pthread_create in pthread\n",
            "-- Looking for pthread_create in pthread - found\n",
            "-- Found Threads: TRUE  \n",
            "-- Boost version: 1.65.1\n",
            "-- Found the following Boost libraries:\n",
            "--   program_options\n",
            "--   system\n",
            "--   thread\n",
            "--   unit_test_framework\n",
            "--   chrono\n",
            "--   date_time\n",
            "--   atomic\n",
            "-- Found ZLIB: /usr/lib/x86_64-linux-gnu/libz.so (found version \"1.2.11\") \n",
            "-- Found BZip2: /usr/lib/x86_64-linux-gnu/libbz2.so (found version \"1.0.6\") \n",
            "-- Looking for BZ2_bzCompressInit\n",
            "-- Looking for BZ2_bzCompressInit - found\n",
            "-- Looking for lzma_auto_decoder in /usr/lib/x86_64-linux-gnu/liblzma.so\n",
            "-- Looking for lzma_auto_decoder in /usr/lib/x86_64-linux-gnu/liblzma.so - found\n",
            "-- Looking for lzma_easy_encoder in /usr/lib/x86_64-linux-gnu/liblzma.so\n",
            "-- Looking for lzma_easy_encoder in /usr/lib/x86_64-linux-gnu/liblzma.so - found\n",
            "-- Looking for lzma_lzma_preset in /usr/lib/x86_64-linux-gnu/liblzma.so\n",
            "-- Looking for lzma_lzma_preset in /usr/lib/x86_64-linux-gnu/liblzma.so - found\n",
            "-- Found LibLZMA: /usr/include (found version \"5.2.2\") \n",
            "-- Could NOT find Eigen3 (missing: EIGEN3_INCLUDE_DIR EIGEN3_VERSION_OK) (Required is at least version \"2.91.0\")\n",
            "CMake Warning at lm/interpolate/CMakeLists.txt:65 (message):\n",
            "  Not building interpolation.  Eigen3 was not found.\n",
            "\n",
            "\n",
            "-- To install Eigen3 in your home directory, copy paste this:\n",
            "export EIGEN3_ROOT=$HOME/eigen-eigen-07105f7124f9\n",
            "(cd $HOME; wget -O - https://bitbucket.org/eigen/eigen/get/3.2.8.tar.bz2 |tar xj)\n",
            "rm CMakeCache.txt\n",
            "\n",
            "-- Configuring done\n",
            "-- Generating done\n",
            "-- Build files have been written to: /content/DeepSpeech/native_client/kenlm/build\n",
            "\u001b[35m\u001b[1mScanning dependencies of target kenlm_filter\u001b[0m\n",
            "\u001b[35m\u001b[1mScanning dependencies of target kenlm_util\u001b[0m\n",
            "[  1%] \u001b[32mBuilding CXX object lm/filter/CMakeFiles/kenlm_filter.dir/vocab.cc.o\u001b[0m\n",
            "[  1%] \u001b[32mBuilding CXX object lm/filter/CMakeFiles/kenlm_filter.dir/arpa_io.cc.o\u001b[0m\n",
            "[  2%] \u001b[32mBuilding CXX object lm/filter/CMakeFiles/kenlm_filter.dir/phrase.cc.o\u001b[0m\n",
            "[  3%] \u001b[32mBuilding CXX object util/CMakeFiles/kenlm_util.dir/double-conversion/bignum-dtoa.cc.o\u001b[0m\n",
            "[  3%] \u001b[32mBuilding CXX object util/CMakeFiles/kenlm_util.dir/double-conversion/bignum.cc.o\u001b[0m\n",
            "[  4%] \u001b[32mBuilding CXX object util/CMakeFiles/kenlm_util.dir/double-conversion/cached-powers.cc.o\u001b[0m\n",
            "[  5%] \u001b[32mBuilding CXX object util/CMakeFiles/kenlm_util.dir/double-conversion/diy-fp.cc.o\u001b[0m\n",
            "[  6%] \u001b[32mBuilding CXX object util/CMakeFiles/kenlm_util.dir/double-conversion/double-conversion.cc.o\u001b[0m\n",
            "[  7%] \u001b[32mBuilding CXX object util/CMakeFiles/kenlm_util.dir/double-conversion/fast-dtoa.cc.o\u001b[0m\n",
            "[  8%] \u001b[32mBuilding CXX object util/CMakeFiles/kenlm_util.dir/double-conversion/fixed-dtoa.cc.o\u001b[0m\n",
            "[  8%] \u001b[32mBuilding CXX object util/CMakeFiles/kenlm_util.dir/double-conversion/strtod.cc.o\u001b[0m\n",
            "[  9%] \u001b[32mBuilding CXX object util/CMakeFiles/kenlm_util.dir/stream/chain.cc.o\u001b[0m\n",
            "[ 10%] \u001b[32mBuilding CXX object util/CMakeFiles/kenlm_util.dir/stream/count_records.cc.o\u001b[0m\n",
            "[ 11%] \u001b[32mBuilding CXX object util/CMakeFiles/kenlm_util.dir/stream/io.cc.o\u001b[0m\n",
            "[ 12%] \u001b[32m\u001b[1mLinking CXX static library ../../lib/libkenlm_filter.a\u001b[0m\n",
            "[ 12%] Built target kenlm_filter\n",
            "[ 13%] \u001b[32mBuilding CXX object util/CMakeFiles/kenlm_util.dir/stream/line_input.cc.o\u001b[0m\n",
            "[ 13%] \u001b[32mBuilding CXX object util/CMakeFiles/kenlm_util.dir/stream/multi_progress.cc.o\u001b[0m\n",
            "[ 14%] \u001b[32mBuilding CXX object util/CMakeFiles/kenlm_util.dir/stream/rewindable_stream.cc.o\u001b[0m\n",
            "[ 15%] \u001b[32mBuilding CXX object util/CMakeFiles/kenlm_util.dir/bit_packing.cc.o\u001b[0m\n",
            "[ 16%] \u001b[32mBuilding CXX object util/CMakeFiles/kenlm_util.dir/ersatz_progress.cc.o\u001b[0m\n",
            "[ 17%] \u001b[32mBuilding CXX object util/CMakeFiles/kenlm_util.dir/exception.cc.o\u001b[0m\n",
            "[ 17%] \u001b[32mBuilding CXX object util/CMakeFiles/kenlm_util.dir/file.cc.o\u001b[0m\n",
            "[ 18%] \u001b[32mBuilding CXX object util/CMakeFiles/kenlm_util.dir/file_piece.cc.o\u001b[0m\n",
            "[ 19%] \u001b[32mBuilding CXX object util/CMakeFiles/kenlm_util.dir/float_to_string.cc.o\u001b[0m\n",
            "[ 20%] \u001b[32mBuilding CXX object util/CMakeFiles/kenlm_util.dir/integer_to_string.cc.o\u001b[0m\n",
            "[ 21%] \u001b[32mBuilding CXX object util/CMakeFiles/kenlm_util.dir/mmap.cc.o\u001b[0m\n",
            "[ 21%] \u001b[32mBuilding CXX object util/CMakeFiles/kenlm_util.dir/murmur_hash.cc.o\u001b[0m\n",
            "[ 22%] \u001b[32mBuilding CXX object util/CMakeFiles/kenlm_util.dir/parallel_read.cc.o\u001b[0m\n",
            "[ 23%] \u001b[32mBuilding CXX object util/CMakeFiles/kenlm_util.dir/pool.cc.o\u001b[0m\n",
            "[ 24%] \u001b[32mBuilding CXX object util/CMakeFiles/kenlm_util.dir/read_compressed.cc.o\u001b[0m\n",
            "[ 25%] \u001b[32mBuilding CXX object util/CMakeFiles/kenlm_util.dir/scoped.cc.o\u001b[0m\n",
            "[ 25%] \u001b[32mBuilding CXX object util/CMakeFiles/kenlm_util.dir/spaces.cc.o\u001b[0m\n",
            "[ 26%] \u001b[32mBuilding CXX object util/CMakeFiles/kenlm_util.dir/string_piece.cc.o\u001b[0m\n",
            "[ 27%] \u001b[32mBuilding CXX object util/CMakeFiles/kenlm_util.dir/usage.cc.o\u001b[0m\n",
            "[ 28%] \u001b[32m\u001b[1mLinking CXX static library ../lib/libkenlm_util.a\u001b[0m\n",
            "[ 28%] Built target kenlm_util\n",
            "\u001b[35m\u001b[1mScanning dependencies of target joint_sort_test\u001b[0m\n",
            "\u001b[35m\u001b[1mScanning dependencies of target string_stream_test\u001b[0m\n",
            "\u001b[35m\u001b[1mScanning dependencies of target probing_hash_table_benchmark\u001b[0m\n",
            "\u001b[35m\u001b[1mScanning dependencies of target read_compressed_test\u001b[0m\n",
            "[ 29%] \u001b[32mBuilding CXX object util/CMakeFiles/probing_hash_table_benchmark.dir/probing_hash_table_benchmark_main.cc.o\u001b[0m\n",
            "[ 30%] \u001b[32mBuilding CXX object util/CMakeFiles/read_compressed_test.dir/read_compressed_test.cc.o\u001b[0m\n",
            "[ 30%] \u001b[32mBuilding CXX object util/CMakeFiles/joint_sort_test.dir/joint_sort_test.cc.o\u001b[0m\n",
            "[ 30%] \u001b[32mBuilding CXX object util/CMakeFiles/string_stream_test.dir/string_stream_test.cc.o\u001b[0m\n",
            "[ 31%] \u001b[32m\u001b[1mLinking CXX executable ../tests/joint_sort_test\u001b[0m\n",
            "[ 31%] Built target joint_sort_test\n",
            "\u001b[35m\u001b[1mScanning dependencies of target bit_packing_test\u001b[0m\n",
            "[ 32%] \u001b[32mBuilding CXX object util/CMakeFiles/bit_packing_test.dir/bit_packing_test.cc.o\u001b[0m\n",
            "[ 33%] \u001b[32m\u001b[1mLinking CXX executable ../tests/read_compressed_test\u001b[0m\n",
            "[ 34%] \u001b[32m\u001b[1mLinking CXX executable ../tests/string_stream_test\u001b[0m\n",
            "[ 34%] Built target read_compressed_test\n",
            "\u001b[35m\u001b[1mScanning dependencies of target tokenize_piece_test\u001b[0m\n",
            "[ 35%] \u001b[32mBuilding CXX object util/CMakeFiles/tokenize_piece_test.dir/tokenize_piece_test.cc.o\u001b[0m\n",
            "[ 35%] Built target string_stream_test\n",
            "\u001b[35m\u001b[1mScanning dependencies of target sorted_uniform_test\u001b[0m\n",
            "[ 36%] \u001b[32mBuilding CXX object util/CMakeFiles/sorted_uniform_test.dir/sorted_uniform_test.cc.o\u001b[0m\n",
            "[ 36%] \u001b[32m\u001b[1mLinking CXX executable ../bin/probing_hash_table_benchmark\u001b[0m\n",
            "[ 36%] Built target probing_hash_table_benchmark\n",
            "\u001b[35m\u001b[1mScanning dependencies of target integer_to_string_test\u001b[0m\n",
            "[ 37%] \u001b[32mBuilding CXX object util/CMakeFiles/integer_to_string_test.dir/integer_to_string_test.cc.o\u001b[0m\n",
            "[ 38%] \u001b[32m\u001b[1mLinking CXX executable ../tests/bit_packing_test\u001b[0m\n",
            "[ 38%] Built target bit_packing_test\n",
            "\u001b[35m\u001b[1mScanning dependencies of target file_piece_test\u001b[0m\n",
            "[ 38%] \u001b[32mBuilding CXX object util/CMakeFiles/file_piece_test.dir/file_piece_test.cc.o\u001b[0m\n",
            "[ 39%] \u001b[32m\u001b[1mLinking CXX executable ../tests/tokenize_piece_test\u001b[0m\n",
            "[ 39%] Built target tokenize_piece_test\n",
            "\u001b[35m\u001b[1mScanning dependencies of target pcqueue_test\u001b[0m\n",
            "[ 39%] \u001b[32mBuilding CXX object util/CMakeFiles/pcqueue_test.dir/pcqueue_test.cc.o\u001b[0m\n",
            "[ 40%] \u001b[32m\u001b[1mLinking CXX executable ../tests/sorted_uniform_test\u001b[0m\n",
            "[ 40%] Built target sorted_uniform_test\n",
            "\u001b[35m\u001b[1mScanning dependencies of target multi_intersection_test\u001b[0m\n",
            "[ 41%] \u001b[32mBuilding CXX object util/CMakeFiles/multi_intersection_test.dir/multi_intersection_test.cc.o\u001b[0m\n",
            "[ 42%] \u001b[32m\u001b[1mLinking CXX executable ../tests/integer_to_string_test\u001b[0m\n",
            "[ 43%] \u001b[32m\u001b[1mLinking CXX executable ../tests/pcqueue_test\u001b[0m\n",
            "[ 43%] Built target pcqueue_test\n",
            "\u001b[35m\u001b[1mScanning dependencies of target probing_hash_table_test\u001b[0m\n",
            "[ 44%] \u001b[32mBuilding CXX object util/CMakeFiles/probing_hash_table_test.dir/probing_hash_table_test.cc.o\u001b[0m\n",
            "[ 44%] Built target integer_to_string_test\n",
            "\u001b[35m\u001b[1mScanning dependencies of target sized_iterator_test\u001b[0m\n",
            "[ 45%] \u001b[32mBuilding CXX object util/CMakeFiles/sized_iterator_test.dir/sized_iterator_test.cc.o\u001b[0m\n",
            "[ 46%] \u001b[32m\u001b[1mLinking CXX executable ../tests/file_piece_test\u001b[0m\n",
            "[ 46%] Built target file_piece_test\n",
            "\u001b[35m\u001b[1mScanning dependencies of target io_test\u001b[0m\n",
            "[ 47%] \u001b[32mBuilding CXX object util/stream/CMakeFiles/io_test.dir/io_test.cc.o\u001b[0m\n",
            "[ 48%] \u001b[32m\u001b[1mLinking CXX executable ../tests/multi_intersection_test\u001b[0m\n",
            "[ 48%] Built target multi_intersection_test\n",
            "\u001b[35m\u001b[1mScanning dependencies of target stream_test\u001b[0m\n",
            "[ 48%] \u001b[32mBuilding CXX object util/stream/CMakeFiles/stream_test.dir/stream_test.cc.o\u001b[0m\n",
            "[ 48%] \u001b[32m\u001b[1mLinking CXX executable ../tests/sized_iterator_test\u001b[0m\n",
            "[ 48%] Built target sized_iterator_test\n",
            "\u001b[35m\u001b[1mScanning dependencies of target rewindable_stream_test\u001b[0m\n",
            "[ 49%] \u001b[32mBuilding CXX object util/stream/CMakeFiles/rewindable_stream_test.dir/rewindable_stream_test.cc.o\u001b[0m\n",
            "[ 50%] \u001b[32m\u001b[1mLinking CXX executable ../tests/probing_hash_table_test\u001b[0m\n",
            "[ 50%] Built target probing_hash_table_test\n",
            "\u001b[35m\u001b[1mScanning dependencies of target sort_test\u001b[0m\n",
            "[ 51%] \u001b[32mBuilding CXX object util/stream/CMakeFiles/sort_test.dir/sort_test.cc.o\u001b[0m\n",
            "[ 52%] \u001b[32m\u001b[1mLinking CXX executable ../../tests/io_test\u001b[0m\n",
            "[ 52%] Built target io_test\n",
            "\u001b[35m\u001b[1mScanning dependencies of target kenlm\u001b[0m\n",
            "[ 53%] \u001b[32mBuilding CXX object lm/CMakeFiles/kenlm.dir/bhiksha.cc.o\u001b[0m\n",
            "[ 54%] \u001b[32mBuilding CXX object lm/CMakeFiles/kenlm.dir/binary_format.cc.o\u001b[0m\n",
            "[ 55%] \u001b[32m\u001b[1mLinking CXX executable ../../tests/stream_test\u001b[0m\n",
            "[ 55%] Built target stream_test\n",
            "[ 56%] \u001b[32mBuilding CXX object lm/CMakeFiles/kenlm.dir/config.cc.o\u001b[0m\n",
            "[ 56%] \u001b[32mBuilding CXX object lm/CMakeFiles/kenlm.dir/lm_exception.cc.o\u001b[0m\n",
            "[ 57%] \u001b[32mBuilding CXX object lm/CMakeFiles/kenlm.dir/model.cc.o\u001b[0m\n",
            "[ 58%] \u001b[32mBuilding CXX object lm/CMakeFiles/kenlm.dir/quantize.cc.o\u001b[0m\n",
            "[ 59%] \u001b[32m\u001b[1mLinking CXX executable ../../tests/rewindable_stream_test\u001b[0m\n",
            "[ 59%] Built target rewindable_stream_test\n",
            "[ 60%] \u001b[32mBuilding CXX object lm/CMakeFiles/kenlm.dir/read_arpa.cc.o\u001b[0m\n",
            "[ 61%] \u001b[32mBuilding CXX object lm/CMakeFiles/kenlm.dir/search_hashed.cc.o\u001b[0m\n",
            "[ 62%] \u001b[32mBuilding CXX object lm/CMakeFiles/kenlm.dir/search_trie.cc.o\u001b[0m\n",
            "[ 63%] \u001b[32m\u001b[1mLinking CXX executable ../../tests/sort_test\u001b[0m\n",
            "[ 63%] Built target sort_test\n",
            "[ 63%] \u001b[32mBuilding CXX object lm/CMakeFiles/kenlm.dir/sizes.cc.o\u001b[0m\n",
            "[ 64%] \u001b[32mBuilding CXX object lm/CMakeFiles/kenlm.dir/trie.cc.o\u001b[0m\n",
            "[ 65%] \u001b[32mBuilding CXX object lm/CMakeFiles/kenlm.dir/trie_sort.cc.o\u001b[0m\n",
            "[ 66%] \u001b[32mBuilding CXX object lm/CMakeFiles/kenlm.dir/value_build.cc.o\u001b[0m\n",
            "[ 67%] \u001b[32mBuilding CXX object lm/CMakeFiles/kenlm.dir/virtual_interface.cc.o\u001b[0m\n",
            "[ 67%] \u001b[32mBuilding CXX object lm/CMakeFiles/kenlm.dir/vocab.cc.o\u001b[0m\n",
            "[ 68%] \u001b[32mBuilding CXX object lm/CMakeFiles/kenlm.dir/common/model_buffer.cc.o\u001b[0m\n",
            "[ 69%] \u001b[32mBuilding CXX object lm/CMakeFiles/kenlm.dir/common/print.cc.o\u001b[0m\n",
            "[ 70%] \u001b[32mBuilding CXX object lm/CMakeFiles/kenlm.dir/common/renumber.cc.o\u001b[0m\n",
            "[ 71%] \u001b[32mBuilding CXX object lm/CMakeFiles/kenlm.dir/common/size_option.cc.o\u001b[0m\n",
            "[ 71%] \u001b[32m\u001b[1mLinking CXX static library ../lib/libkenlm.a\u001b[0m\n",
            "[ 71%] Built target kenlm\n",
            "\u001b[35m\u001b[1mScanning dependencies of target kenlm_benchmark\u001b[0m\n",
            "\u001b[35m\u001b[1mScanning dependencies of target query\u001b[0m\n",
            "\u001b[35m\u001b[1mScanning dependencies of target build_binary\u001b[0m\n",
            "\u001b[35m\u001b[1mScanning dependencies of target fragment\u001b[0m\n",
            "[ 72%] \u001b[32mBuilding CXX object lm/CMakeFiles/kenlm_benchmark.dir/kenlm_benchmark_main.cc.o\u001b[0m\n",
            "[ 73%] \u001b[32mBuilding CXX object lm/CMakeFiles/fragment.dir/fragment_main.cc.o\u001b[0m\n",
            "[ 74%] \u001b[32mBuilding CXX object lm/CMakeFiles/query.dir/query_main.cc.o\u001b[0m\n",
            "[ 75%] \u001b[32mBuilding CXX object lm/CMakeFiles/build_binary.dir/build_binary_main.cc.o\u001b[0m\n",
            "[ 75%] \u001b[32m\u001b[1mLinking CXX executable ../bin/fragment\u001b[0m\n",
            "[ 75%] Built target fragment\n",
            "\u001b[35m\u001b[1mScanning dependencies of target partial_test\u001b[0m\n",
            "[ 76%] \u001b[32mBuilding CXX object lm/CMakeFiles/partial_test.dir/partial_test.cc.o\u001b[0m\n",
            "[ 76%] \u001b[32m\u001b[1mLinking CXX executable ../bin/build_binary\u001b[0m\n",
            "[ 76%] Built target build_binary\n",
            "\u001b[35m\u001b[1mScanning dependencies of target left_test\u001b[0m\n",
            "[ 77%] \u001b[32mBuilding CXX object lm/CMakeFiles/left_test.dir/left_test.cc.o\u001b[0m\n",
            "[ 78%] \u001b[32m\u001b[1mLinking CXX executable ../bin/query\u001b[0m\n",
            "[ 78%] Built target query\n",
            "\u001b[35m\u001b[1mScanning dependencies of target model_test\u001b[0m\n",
            "[ 79%] \u001b[32mBuilding CXX object lm/CMakeFiles/model_test.dir/model_test.cc.o\u001b[0m\n",
            "[ 80%] \u001b[32m\u001b[1mLinking CXX executable ../tests/partial_test\u001b[0m\n",
            "[ 80%] Built target partial_test\n",
            "\u001b[35m\u001b[1mScanning dependencies of target model_buffer_test\u001b[0m\n",
            "[ 81%] \u001b[32mBuilding CXX object lm/common/CMakeFiles/model_buffer_test.dir/model_buffer_test.cc.o\u001b[0m\n",
            "[ 82%] \u001b[32m\u001b[1mLinking CXX executable ../../tests/model_buffer_test\u001b[0m\n",
            "[ 82%] Built target model_buffer_test\n",
            "\u001b[35m\u001b[1mScanning dependencies of target kenlm_builder\u001b[0m\n",
            "[ 83%] \u001b[32mBuilding CXX object lm/builder/CMakeFiles/kenlm_builder.dir/adjust_counts.cc.o\u001b[0m\n",
            "[ 83%] \u001b[32m\u001b[1mLinking CXX executable ../tests/left_test\u001b[0m\n",
            "[ 83%] Built target left_test\n",
            "\u001b[35m\u001b[1mScanning dependencies of target phrase_table_vocab\u001b[0m\n",
            "[ 84%] \u001b[32mBuilding CXX object lm/filter/CMakeFiles/phrase_table_vocab.dir/phrase_table_vocab_main.cc.o\u001b[0m\n",
            "[ 85%] \u001b[32mBuilding CXX object lm/builder/CMakeFiles/kenlm_builder.dir/corpus_count.cc.o\u001b[0m\n",
            "[ 86%] \u001b[32m\u001b[1mLinking CXX executable ../bin/kenlm_benchmark\u001b[0m\n",
            "[ 87%] \u001b[32m\u001b[1mLinking CXX executable ../../bin/phrase_table_vocab\u001b[0m\n",
            "[ 87%] Built target kenlm_benchmark\n",
            "\u001b[35m\u001b[1mScanning dependencies of target filter\u001b[0m\n",
            "[ 88%] \u001b[32mBuilding CXX object lm/filter/CMakeFiles/filter.dir/filter_main.cc.o\u001b[0m\n",
            "[ 88%] Built target phrase_table_vocab\n",
            "[ 88%] \u001b[32mBuilding CXX object lm/builder/CMakeFiles/kenlm_builder.dir/initial_probabilities.cc.o\u001b[0m\n",
            "[ 89%] \u001b[32mBuilding CXX object lm/builder/CMakeFiles/kenlm_builder.dir/interpolate.cc.o\u001b[0m\n",
            "[ 90%] \u001b[32mBuilding CXX object lm/builder/CMakeFiles/kenlm_builder.dir/output.cc.o\u001b[0m\n",
            "[ 91%] \u001b[32mBuilding CXX object lm/builder/CMakeFiles/kenlm_builder.dir/pipeline.cc.o\u001b[0m\n",
            "[ 91%] \u001b[32m\u001b[1mLinking CXX executable ../tests/model_test\u001b[0m\n",
            "[ 91%] Built target model_test\n",
            "[ 92%] \u001b[32m\u001b[1mLinking CXX executable ../../bin/filter\u001b[0m\n",
            "[ 92%] Built target filter\n",
            "[ 93%] \u001b[32m\u001b[1mLinking CXX static library ../../lib/libkenlm_builder.a\u001b[0m\n",
            "[ 93%] Built target kenlm_builder\n",
            "\u001b[35m\u001b[1mScanning dependencies of target count_ngrams\u001b[0m\n",
            "\u001b[35m\u001b[1mScanning dependencies of target lmplz\u001b[0m\n",
            "\u001b[35m\u001b[1mScanning dependencies of target corpus_count_test\u001b[0m\n",
            "\u001b[35m\u001b[1mScanning dependencies of target adjust_counts_test\u001b[0m\n",
            "[ 93%] \u001b[32mBuilding CXX object lm/builder/CMakeFiles/adjust_counts_test.dir/adjust_counts_test.cc.o\u001b[0m\n",
            "[ 94%] \u001b[32mBuilding CXX object lm/builder/CMakeFiles/count_ngrams.dir/count_ngrams_main.cc.o\u001b[0m\n",
            "[ 95%] \u001b[32mBuilding CXX object lm/builder/CMakeFiles/corpus_count_test.dir/corpus_count_test.cc.o\u001b[0m\n",
            "[ 96%] \u001b[32mBuilding CXX object lm/builder/CMakeFiles/lmplz.dir/lmplz_main.cc.o\u001b[0m\n",
            "[ 97%] \u001b[32m\u001b[1mLinking CXX executable ../../tests/adjust_counts_test\u001b[0m\n",
            "[ 97%] Built target adjust_counts_test\n",
            "[ 98%] \u001b[32m\u001b[1mLinking CXX executable ../../bin/lmplz\u001b[0m\n",
            "[ 98%] Built target lmplz\n",
            "[ 99%] \u001b[32m\u001b[1mLinking CXX executable ../../tests/corpus_count_test\u001b[0m\n",
            "[ 99%] Built target corpus_count_test\n",
            "[100%] \u001b[32m\u001b[1mLinking CXX executable ../../bin/count_ngrams\u001b[0m\n",
            "[100%] Built target count_ngrams\n"
          ],
          "name": "stdout"
        }
      ]
    },
    {
      "cell_type": "markdown",
      "metadata": {
        "id": "akDqafq9sEcW",
        "colab_type": "text"
      },
      "source": [
        "#Generate words.arpa"
      ]
    },
    {
      "cell_type": "code",
      "metadata": {
        "id": "fBpPfIRQsEQb",
        "colab_type": "code",
        "colab": {
          "base_uri": "https://localhost:8080/",
          "height": 675
        },
        "outputId": "76fef2ab-a29f-47ba-c42b-1e6dfc7729b4"
      },
      "source": [
        "!/content/DeepSpeech/native_client/kenlm/build/bin/lmplz --text /content/jw/utilities/vocab.txt  --arpa /content/jw/arpa/words.arpa --o 5 --discount_fallback"
      ],
      "execution_count": 13,
      "outputs": [
        {
          "output_type": "stream",
          "text": [
            "=== 1/5 Counting and sorting n-grams ===\n",
            "Reading /content/jw/utilities/vocab.txt\n",
            "----5---10---15---20---25---30---35---40---45---50---55---60---65---70---75---80---85---90---95--100\n",
            "tcmalloc: large alloc 1923358720 bytes == 0x55b7fe6e0000 @  0x7f6146c3a1e7 0x55b7fd518932 0x55b7fd4ad188 0x55b7fd48c016 0x55b7fd47817e 0x7f6144dd3b97 0x55b7fd479bca\n",
            "tcmalloc: large alloc 8975663104 bytes == 0x55b871122000 @  0x7f6146c3a1e7 0x55b7fd518932 0x55b7fd50358a 0x55b7fd503fa8 0x55b7fd48c033 0x55b7fd47817e 0x7f6144dd3b97 0x55b7fd479bca\n",
            "****************************************************************************************************\n",
            "Unigram tokens 20364 types 1693\n",
            "=== 2/5 Calculating and sorting adjusted counts ===\n",
            "Chain sizes: 1:20316 2:1065772288 3:1998323072 4:3197316864 5:4662753792\n",
            "tcmalloc: large alloc 4662755328 bytes == 0x55b7fe6e0000 @  0x7f6146c3a1e7 0x55b7fd518932 0x55b7fd50358a 0x55b7fd503fa8 0x55b7fd48c5dd 0x55b7fd47817e 0x7f6144dd3b97 0x55b7fd479bca\n",
            "tcmalloc: large alloc 1998323712 bytes == 0x55b953e1a000 @  0x7f6146c3a1e7 0x55b7fd518932 0x55b7fd50358a 0x55b7fd503fa8 0x55b7fd48c9c5 0x55b7fd47817e 0x7f6144dd3b97 0x55b7fd479bca\n",
            "tcmalloc: large alloc 3197321216 bytes == 0x55ba889a2000 @  0x7f6146c3a1e7 0x55b7fd518932 0x55b7fd50358a 0x55b7fd503fa8 0x55b7fd48c9c5 0x55b7fd47817e 0x7f6144dd3b97 0x55b7fd479bca\n",
            "Statistics:\n",
            "1 1693 D1=0.535168 D2=1.30815 D3+=1.41492\n",
            "2 9643 D1=0.763263 D2=1.17939 D3+=1.62429\n",
            "3 14504 D1=0.884085 D2=1.24925 D3+=1.65213\n",
            "4 15665 D1=0.936283 D2=1.37642 D3+=2.304\n",
            "5 15137 D1=0.9485 D2=1.24699 D3+=1.75965\n",
            "Memory estimate for binary LM:\n",
            "type      kB\n",
            "probing 1242 assuming -p 1.5\n",
            "probing 1482 assuming -r models -p 1.5\n",
            "trie     545 without quantization\n",
            "trie     281 assuming -q 8 -b 8 quantization \n",
            "trie     511 assuming -a 22 array pointer compression\n",
            "trie     247 assuming -a 22 -q 8 -b 8 array pointer compression and quantization\n",
            "=== 3/5 Calculating and sorting initial probabilities ===\n",
            "Chain sizes: 1:20316 2:154288 3:290080 4:375960 5:423836\n",
            "----5---10---15---20---25---30---35---40---45---50---55---60---65---70---75---80---85---90---95--100\n",
            "####################################################################################################\n",
            "=== 4/5 Calculating and writing order-interpolated probabilities ===\n",
            "Chain sizes: 1:20316 2:154288 3:290080 4:375960 5:423836\n",
            "----5---10---15---20---25---30---35---40---45---50---55---60---65---70---75---80---85---90---95--100\n",
            "####################################################################################################\n",
            "=== 5/5 Writing ARPA model ===\n",
            "----5---10---15---20---25---30---35---40---45---50---55---60---65---70---75---80---85---90---95--100\n",
            "****************************************************************************************************\n",
            "Name:lmplz\tVmPeak:14216168 kB\tVmRSS:1902772 kB\tRSSMax:1921004 kB\tuser:0.187268\tsys:0.901477\tCPU:1.08878\treal:1.10042\n"
          ],
          "name": "stdout"
        }
      ]
    },
    {
      "cell_type": "markdown",
      "metadata": {
        "id": "oEjHhc7RyiaG",
        "colab_type": "text"
      },
      "source": [
        "#Genrate lm.binary from words.arpa"
      ]
    },
    {
      "cell_type": "code",
      "metadata": {
        "id": "buPfh4fNyiKK",
        "colab_type": "code",
        "colab": {
          "base_uri": "https://localhost:8080/",
          "height": 84
        },
        "outputId": "3f9fd589-62b0-4708-be10-29bd9dde5934"
      },
      "source": [
        "!/content/DeepSpeech/native_client/kenlm/build/bin/build_binary -T -s /content/jw/arpa/words.arpa /content/jw/lmbinary/lm.binary"
      ],
      "execution_count": 14,
      "outputs": [
        {
          "output_type": "stream",
          "text": [
            "Reading /content/jw/arpa/words.arpa\n",
            "----5---10---15---20---25---30---35---40---45---50---55---60---65---70---75---80---85---90---95--100\n",
            "****************************************************************************************************\n",
            "SUCCESS\n"
          ],
          "name": "stdout"
        }
      ]
    },
    {
      "cell_type": "markdown",
      "metadata": {
        "id": "qqXqQoHR0E9E",
        "colab_type": "text"
      },
      "source": [
        "#Generating generate_trie floder using taskcluster.py"
      ]
    },
    {
      "cell_type": "code",
      "metadata": {
        "id": "QTd-hit-0Er-",
        "colab_type": "code",
        "colab": {
          "base_uri": "https://localhost:8080/",
          "height": 188
        },
        "outputId": "e997b871-d7e4-4839-b7c4-5119a90f4153"
      },
      "source": [
        "!python3 /content/DeepSpeech/util/taskcluster.py --target /content/DeepSpeech/native_client/"
      ],
      "execution_count": 15,
      "outputs": [
        {
          "output_type": "stream",
          "text": [
            "Downloading https://community-tc.services.mozilla.com/api/index/v1/task/project.deepspeech.deepspeech.native_client.v0.6.0.cpu/artifacts/public/native_client.tar.xz ...\n",
            "Downloading: 100%\n",
            "\n",
            "generate_trie\n",
            "libdeepspeech.so\n",
            "LICENSE\n",
            "deepspeech\n",
            "deepspeech.h\n",
            "README.mozilla\n"
          ],
          "name": "stdout"
        }
      ]
    },
    {
      "cell_type": "markdown",
      "metadata": {
        "id": "LaYwUil61Ixi",
        "colab_type": "text"
      },
      "source": [
        "#Generating trie file using alphabet.txt and lm.binary"
      ]
    },
    {
      "cell_type": "code",
      "metadata": {
        "id": "0w8QFs881Iia",
        "colab_type": "code",
        "colab": {
          "base_uri": "https://localhost:8080/",
          "height": 50
        },
        "outputId": "e361a73a-0598-40e9-8b79-77d97f760180"
      },
      "source": [
        "!/content/DeepSpeech/native_client/generate_trie /content/jw/utilities/lm_text/alphabet.txt /content/jw/lmbinary/lm.binary /content/jw/trie/trie"
      ],
      "execution_count": 16,
      "outputs": [
        {
          "output_type": "stream",
          "text": [
            "ERROR: AlignOutput: Can't determine stream position\n",
            "ERROR: Could not align file during write after header\n"
          ],
          "name": "stdout"
        }
      ]
    },
    {
      "cell_type": "markdown",
      "metadata": {
        "id": "HmWABUiS2keu",
        "colab_type": "text"
      },
      "source": [
        "Training the model"
      ]
    },
    {
      "cell_type": "code",
      "metadata": {
        "id": "T684hiVHSYP0",
        "colab_type": "code",
        "colab": {
          "base_uri": "https://localhost:8080/",
          "height": 34
        },
        "outputId": "b1701067-13ef-41c8-c12c-cb4b660037c2"
      },
      "source": [
        "%cd .."
      ],
      "execution_count": 18,
      "outputs": [
        {
          "output_type": "stream",
          "text": [
            "/content/DeepSpeech\n"
          ],
          "name": "stdout"
        }
      ]
    },
    {
      "cell_type": "code",
      "metadata": {
        "id": "1yGjKFhZ2kCi",
        "colab_type": "code",
        "colab": {
          "base_uri": "https://localhost:8080/",
          "height": 1000
        },
        "outputId": "75998cc0-ad55-47f4-b3ef-ed9fd7240a24"
      },
      "source": [
        "!./DeepSpeech.py --train_files /content/jw/data1/train/train.csv --dev_files /content/jw/data1/dev/dev.csv --test_files /content/jw/data1/test/test.csv --epochs 3 --dropout_rate 0.2"
      ],
      "execution_count": 19,
      "outputs": [
        {
          "output_type": "stream",
          "text": [
            "/bin/sh: 1: sox: not found\n",
            "SoX could not be found!\n",
            "\n",
            "    If you do not have SoX, proceed here:\n",
            "     - - - http://sox.sourceforge.net/ - - -\n",
            "\n",
            "    If you do (or think that you should) have SoX, double-check your\n",
            "    path variables.\n",
            "    \n",
            "WARNING:tensorflow:From /usr/local/lib/python3.6/dist-packages/tensorflow/python/data/ops/dataset_ops.py:494: py_func (from tensorflow.python.ops.script_ops) is deprecated and will be removed in a future version.\n",
            "Instructions for updating:\n",
            "tf.py_func is deprecated in TF V2. Instead, there are two\n",
            "    options available in V2.\n",
            "    - tf.py_function takes a python function which manipulates tf eager\n",
            "    tensors instead of numpy arrays. It's easy to convert a tf eager tensor to\n",
            "    an ndarray (just call tensor.numpy()) but having access to eager tensors\n",
            "    means `tf.py_function`s can use accelerators such as GPUs as well as\n",
            "    being differentiable using a gradient tape.\n",
            "    - tf.numpy_function maintains the semantics of the deprecated tf.py_func\n",
            "    (it is not differentiable, and manipulates numpy arrays). It drops the\n",
            "    stateful argument making all functions stateful.\n",
            "    \n",
            "W1204 10:37:52.097349 139959306016640 deprecation.py:323] From /usr/local/lib/python3.6/dist-packages/tensorflow/python/data/ops/dataset_ops.py:494: py_func (from tensorflow.python.ops.script_ops) is deprecated and will be removed in a future version.\n",
            "Instructions for updating:\n",
            "tf.py_func is deprecated in TF V2. Instead, there are two\n",
            "    options available in V2.\n",
            "    - tf.py_function takes a python function which manipulates tf eager\n",
            "    tensors instead of numpy arrays. It's easy to convert a tf eager tensor to\n",
            "    an ndarray (just call tensor.numpy()) but having access to eager tensors\n",
            "    means `tf.py_function`s can use accelerators such as GPUs as well as\n",
            "    being differentiable using a gradient tape.\n",
            "    - tf.numpy_function maintains the semantics of the deprecated tf.py_func\n",
            "    (it is not differentiable, and manipulates numpy arrays). It drops the\n",
            "    stateful argument making all functions stateful.\n",
            "    \n",
            "WARNING:tensorflow:From /usr/local/lib/python3.6/dist-packages/tensorflow/python/data/ops/iterator_ops.py:348: Iterator.output_types (from tensorflow.python.data.ops.iterator_ops) is deprecated and will be removed in a future version.\n",
            "Instructions for updating:\n",
            "Use `tf.compat.v1.data.get_output_types(iterator)`.\n",
            "W1204 10:37:52.169201 139959306016640 deprecation.py:323] From /usr/local/lib/python3.6/dist-packages/tensorflow/python/data/ops/iterator_ops.py:348: Iterator.output_types (from tensorflow.python.data.ops.iterator_ops) is deprecated and will be removed in a future version.\n",
            "Instructions for updating:\n",
            "Use `tf.compat.v1.data.get_output_types(iterator)`.\n",
            "WARNING:tensorflow:From /usr/local/lib/python3.6/dist-packages/tensorflow/python/data/ops/iterator_ops.py:349: Iterator.output_shapes (from tensorflow.python.data.ops.iterator_ops) is deprecated and will be removed in a future version.\n",
            "Instructions for updating:\n",
            "Use `tf.compat.v1.data.get_output_shapes(iterator)`.\n",
            "W1204 10:37:52.169435 139959306016640 deprecation.py:323] From /usr/local/lib/python3.6/dist-packages/tensorflow/python/data/ops/iterator_ops.py:349: Iterator.output_shapes (from tensorflow.python.data.ops.iterator_ops) is deprecated and will be removed in a future version.\n",
            "Instructions for updating:\n",
            "Use `tf.compat.v1.data.get_output_shapes(iterator)`.\n",
            "WARNING:tensorflow:From /usr/local/lib/python3.6/dist-packages/tensorflow/python/data/ops/iterator_ops.py:351: Iterator.output_classes (from tensorflow.python.data.ops.iterator_ops) is deprecated and will be removed in a future version.\n",
            "Instructions for updating:\n",
            "Use `tf.compat.v1.data.get_output_classes(iterator)`.\n",
            "W1204 10:37:52.169556 139959306016640 deprecation.py:323] From /usr/local/lib/python3.6/dist-packages/tensorflow/python/data/ops/iterator_ops.py:351: Iterator.output_classes (from tensorflow.python.data.ops.iterator_ops) is deprecated and will be removed in a future version.\n",
            "Instructions for updating:\n",
            "Use `tf.compat.v1.data.get_output_classes(iterator)`.\n",
            "I1204 10:37:53.096837 139959306016640 utils.py:141] NumExpr defaulting to 2 threads.\n",
            "WARNING:tensorflow:\n",
            "The TensorFlow contrib module will not be included in TensorFlow 2.0.\n",
            "For more information, please see:\n",
            "  * https://github.com/tensorflow/community/blob/master/rfcs/20180907-contrib-sunset.md\n",
            "  * https://github.com/tensorflow/addons\n",
            "  * https://github.com/tensorflow/io (for I/O related ops)\n",
            "If you depend on functionality not listed there, please file an issue.\n",
            "\n",
            "W1204 10:37:53.441424 139959306016640 lazy_loader.py:50] \n",
            "The TensorFlow contrib module will not be included in TensorFlow 2.0.\n",
            "For more information, please see:\n",
            "  * https://github.com/tensorflow/community/blob/master/rfcs/20180907-contrib-sunset.md\n",
            "  * https://github.com/tensorflow/addons\n",
            "  * https://github.com/tensorflow/io (for I/O related ops)\n",
            "If you depend on functionality not listed there, please file an issue.\n",
            "\n",
            "WARNING:tensorflow:From /usr/local/lib/python3.6/dist-packages/tensorflow/python/ops/init_ops.py:1251: calling VarianceScaling.__init__ (from tensorflow.python.ops.init_ops) with dtype is deprecated and will be removed in a future version.\n",
            "Instructions for updating:\n",
            "Call initializer instance with the dtype argument instead of passing it to the constructor\n",
            "W1204 10:37:53.443937 139959306016640 deprecation.py:506] From /usr/local/lib/python3.6/dist-packages/tensorflow/python/ops/init_ops.py:1251: calling VarianceScaling.__init__ (from tensorflow.python.ops.init_ops) with dtype is deprecated and will be removed in a future version.\n",
            "Instructions for updating:\n",
            "Call initializer instance with the dtype argument instead of passing it to the constructor\n",
            "WARNING:tensorflow:From ./DeepSpeech.py:234: add_dispatch_support.<locals>.wrapper (from tensorflow.python.ops.array_ops) is deprecated and will be removed in a future version.\n",
            "Instructions for updating:\n",
            "Use tf.where in 2.0, which has the same broadcast rule as np.where\n",
            "W1204 10:37:54.050985 139959306016640 deprecation.py:323] From ./DeepSpeech.py:234: add_dispatch_support.<locals>.wrapper (from tensorflow.python.ops.array_ops) is deprecated and will be removed in a future version.\n",
            "Instructions for updating:\n",
            "Use tf.where in 2.0, which has the same broadcast rule as np.where\n",
            "I Initializing variables...\n",
            "I STARTING Optimization\n",
            "Epoch 0 |   Training | Elapsed Time: 0:00:00 | Steps: 0 | Loss: 0.000000        Traceback (most recent call last):\n",
            "  File \"/usr/local/lib/python3.6/dist-packages/tensorflow/python/client/session.py\", line 1356, in _do_call\n",
            "    return fn(*args)\n",
            "  File \"/usr/local/lib/python3.6/dist-packages/tensorflow/python/client/session.py\", line 1341, in _run_fn\n",
            "    options, feed_dict, fetch_list, target_list, run_metadata)\n",
            "  File \"/usr/local/lib/python3.6/dist-packages/tensorflow/python/client/session.py\", line 1429, in _call_tf_sessionrun\n",
            "    run_metadata)\n",
            "tensorflow.python.framework.errors_impl.InvalidArgumentError: Data too short when trying to read string\n",
            "\t [[{{node DecodeWav}}]]\n",
            "\t [[tower_0/IteratorGetNext]]\n",
            "\n",
            "During handling of the above exception, another exception occurred:\n",
            "\n",
            "Traceback (most recent call last):\n",
            "  File \"./DeepSpeech.py\", line 965, in <module>\n",
            "    absl.app.run(main)\n",
            "  File \"/usr/local/lib/python3.6/dist-packages/absl/app.py\", line 299, in run\n",
            "    _run_main(main, args)\n",
            "  File \"/usr/local/lib/python3.6/dist-packages/absl/app.py\", line 250, in _run_main\n",
            "    sys.exit(main(argv))\n",
            "  File \"./DeepSpeech.py\", line 938, in main\n",
            "    train()\n",
            "  File \"./DeepSpeech.py\", line 631, in train\n",
            "    train_loss, _ = run_set('train', epoch, train_init_op)\n",
            "  File \"./DeepSpeech.py\", line 599, in run_set\n",
            "    feed_dict=feed_dict)\n",
            "  File \"/usr/local/lib/python3.6/dist-packages/tensorflow/python/client/session.py\", line 950, in run\n",
            "    run_metadata_ptr)\n",
            "  File \"/usr/local/lib/python3.6/dist-packages/tensorflow/python/client/session.py\", line 1173, in _run\n",
            "    feed_dict_tensor, options, run_metadata)\n",
            "  File \"/usr/local/lib/python3.6/dist-packages/tensorflow/python/client/session.py\", line 1350, in _do_run\n",
            "    run_metadata)\n",
            "  File \"/usr/local/lib/python3.6/dist-packages/tensorflow/python/client/session.py\", line 1370, in _do_call\n",
            "    raise type(e)(node_def, op, message)\n",
            "tensorflow.python.framework.errors_impl.InvalidArgumentError: Data too short when trying to read string\n",
            "\t [[{{node DecodeWav}}]]\n",
            "\t [[tower_0/IteratorGetNext]]\n"
          ],
          "name": "stdout"
        }
      ]
    },
    {
      "cell_type": "code",
      "metadata": {
        "id": "-0ukd8etYk1m",
        "colab_type": "code",
        "colab": {
          "base_uri": "https://localhost:8080/",
          "height": 1000
        },
        "outputId": "a68c27d8-53d0-429e-b056-d0733f2a971d"
      },
      "source": [
        "!pip3 list"
      ],
      "execution_count": 20,
      "outputs": [
        {
          "output_type": "stream",
          "text": [
            "Package                  Version     \n",
            "------------------------ ------------\n",
            "absl-py                  0.8.1       \n",
            "alabaster                0.7.12      \n",
            "albumentations           0.1.12      \n",
            "altair                   3.2.0       \n",
            "astor                    0.8.0       \n",
            "astropy                  3.0.5       \n",
            "atari-py                 0.2.6       \n",
            "atomicwrites             1.3.0       \n",
            "attrdict                 2.0.1       \n",
            "attrs                    19.3.0      \n",
            "audioread                2.1.8       \n",
            "autograd                 1.3         \n",
            "Babel                    2.7.0       \n",
            "backcall                 0.1.0       \n",
            "backports.tempfile       1.0         \n",
            "backports.weakref        1.0.post1   \n",
            "bcrypt                   3.1.7       \n",
            "beautifulsoup4           4.6.3       \n",
            "bleach                   3.1.0       \n",
            "blis                     0.2.4       \n",
            "bokeh                    1.0.4       \n",
            "boto                     2.49.0      \n",
            "boto3                    1.10.18     \n",
            "botocore                 1.13.18     \n",
            "Bottleneck               1.3.0       \n",
            "branca                   0.3.1       \n",
            "bs4                      0.0.1       \n",
            "bz2file                  0.98        \n",
            "cachetools               3.1.1       \n",
            "certifi                  2019.9.11   \n",
            "cffi                     1.13.2      \n",
            "chainer                  6.5.0       \n",
            "chardet                  3.0.4       \n",
            "chart-studio             1.0.0       \n",
            "Click                    7.0         \n",
            "cloudpickle              1.2.2       \n",
            "cmake                    3.12.0      \n",
            "colorlover               0.3.0       \n",
            "community                1.0.0b1     \n",
            "contextlib2              0.5.5       \n",
            "convertdate              2.2.0       \n",
            "coverage                 3.7.1       \n",
            "coveralls                0.5         \n",
            "crcmod                   1.7         \n",
            "cryptography             2.8         \n",
            "cufflinks                0.17.0      \n",
            "cupy-cuda101             6.5.0       \n",
            "cvxopt                   1.2.3       \n",
            "cvxpy                    1.0.25      \n",
            "cycler                   0.10.0      \n",
            "cymem                    2.0.3       \n",
            "Cython                   0.29.14     \n",
            "daft                     0.0.4       \n",
            "dask                     1.1.5       \n",
            "dataclasses              0.7         \n",
            "datascience              0.10.6      \n",
            "decorator                4.4.1       \n",
            "deepspeech               0.6.0       \n",
            "deepspeech-gpu           0.6.0       \n",
            "defusedxml               0.6.0       \n",
            "descartes                1.1.0       \n",
            "dill                     0.3.1.1     \n",
            "distributed              1.25.3      \n",
            "Django                   2.2.7       \n",
            "dlib                     19.18.0     \n",
            "dm-sonnet                1.35        \n",
            "docopt                   0.6.2       \n",
            "docutils                 0.15.2      \n",
            "dopamine-rl              1.0.5       \n",
            "ds-ctcdecoder            0.6.0       \n",
            "earthengine-api          0.1.206     \n",
            "easydict                 1.9         \n",
            "ecos                     2.0.7.post1 \n",
            "editdistance             0.5.3       \n",
            "en-core-web-sm           2.1.0       \n",
            "entrypoints              0.3         \n",
            "et-xmlfile               1.0.1       \n",
            "fa2                      0.3.5       \n",
            "fancyimpute              0.4.3       \n",
            "fastai                   1.0.59      \n",
            "fastcache                1.1.0       \n",
            "fastdtw                  0.3.4       \n",
            "fastprogress             0.1.21      \n",
            "fastrlock                0.4         \n",
            "fbprophet                0.5         \n",
            "feather-format           0.4.0       \n",
            "featuretools             0.4.1       \n",
            "filelock                 3.0.12      \n",
            "fix-yahoo-finance        0.0.22      \n",
            "Flask                    1.1.1       \n",
            "folium                   0.8.3       \n",
            "fsspec                   0.6.0       \n",
            "future                   0.16.0      \n",
            "gast                     0.2.2       \n",
            "GDAL                     2.2.2       \n",
            "gdown                    3.6.4       \n",
            "gensim                   3.6.0       \n",
            "geographiclib            1.50        \n",
            "geopy                    1.17.0      \n",
            "gevent                   1.4.0       \n",
            "gin-config               0.2.1       \n",
            "glob2                    0.7         \n",
            "google                   2.0.2       \n",
            "google-api-core          1.14.3      \n",
            "google-api-python-client 1.7.11      \n",
            "google-auth              1.4.2       \n",
            "google-auth-httplib2     0.0.3       \n",
            "google-auth-oauthlib     0.4.1       \n",
            "google-cloud-bigquery    1.21.0      \n",
            "google-cloud-core        1.0.3       \n",
            "google-cloud-datastore   1.8.0       \n",
            "google-cloud-language    1.2.0       \n",
            "google-cloud-storage     1.16.2      \n",
            "google-cloud-translate   1.5.0       \n",
            "google-colab             1.0.0       \n",
            "google-pasta             0.1.8       \n",
            "google-resumable-media   0.4.1       \n",
            "googleapis-common-protos 1.6.0       \n",
            "googledrivedownloader    0.4         \n",
            "graph-nets               1.0.5       \n",
            "graphviz                 0.10.1      \n",
            "greenlet                 0.4.15      \n",
            "grpcio                   1.15.0      \n",
            "gspread                  3.0.1       \n",
            "gspread-dataframe        3.0.3       \n",
            "gunicorn                 20.0.0      \n",
            "gym                      0.15.4      \n",
            "h5py                     2.8.0       \n",
            "HeapDict                 1.0.1       \n",
            "holidays                 0.9.11      \n",
            "html5lib                 1.0.1       \n",
            "httpimport               0.5.18      \n",
            "httplib2                 0.11.3      \n",
            "humanize                 0.5.1       \n",
            "hyperopt                 0.1.2       \n",
            "ideep4py                 2.0.0.post3 \n",
            "idna                     2.8         \n",
            "image                    1.5.27      \n",
            "imageio                  2.4.1       \n",
            "imagesize                1.1.0       \n",
            "imbalanced-learn         0.4.3       \n",
            "imblearn                 0.0         \n",
            "imgaug                   0.2.9       \n",
            "importlib-metadata       0.23        \n",
            "imutils                  0.5.3       \n",
            "inflect                  2.1.0       \n",
            "intel-openmp             2020.0.133  \n",
            "intervaltree             2.1.0       \n",
            "ipykernel                4.6.1       \n",
            "ipython                  5.5.0       \n",
            "ipython-genutils         0.2.0       \n",
            "ipython-sql              0.3.9       \n",
            "ipywidgets               7.5.1       \n",
            "itsdangerous             1.1.0       \n",
            "jax                      0.1.51      \n",
            "jaxlib                   0.1.33      \n",
            "jdcal                    1.4.1       \n",
            "jedi                     0.15.1      \n",
            "jieba                    0.39        \n",
            "Jinja2                   2.10.3      \n",
            "jmespath                 0.9.4       \n",
            "joblib                   0.14.0      \n",
            "jpeg4py                  0.1.4       \n",
            "jsonschema               2.6.0       \n",
            "jupyter                  1.0.0       \n",
            "jupyter-client           5.3.4       \n",
            "jupyter-console          5.2.0       \n",
            "jupyter-core             4.6.1       \n",
            "kaggle                   1.5.6       \n",
            "kapre                    0.1.3.1     \n",
            "Keras                    2.2.5       \n",
            "Keras-Applications       1.0.8       \n",
            "Keras-Preprocessing      1.1.0       \n",
            "keras-vis                0.4.1       \n",
            "kfac                     0.2.0       \n",
            "kiwisolver               1.1.0       \n",
            "knnimpute                0.1.0       \n",
            "librosa                  0.6.3       \n",
            "lightgbm                 2.2.3       \n",
            "llvmlite                 0.30.0      \n",
            "lmdb                     0.98        \n",
            "lucid                    0.3.8       \n",
            "lunardate                0.2.0       \n",
            "lxml                     4.2.6       \n",
            "magenta                  0.3.19      \n",
            "Markdown                 3.1.1       \n",
            "MarkupSafe               1.1.1       \n",
            "matplotlib               3.1.1       \n",
            "matplotlib-venn          0.11.5      \n",
            "mesh-tensorflow          0.1.4       \n",
            "mido                     1.2.6       \n",
            "mir-eval                 0.5         \n",
            "missingno                0.4.2       \n",
            "mistune                  0.8.4       \n",
            "mizani                   0.5.4       \n",
            "mkl                      2019.0      \n",
            "mlxtend                  0.14.0      \n",
            "more-itertools           7.2.0       \n",
            "moviepy                  0.2.3.5     \n",
            "mpi4py                   3.0.3       \n",
            "mpmath                   1.1.0       \n",
            "msgpack                  0.5.6       \n",
            "multiprocess             0.70.9      \n",
            "multitasking             0.0.9       \n",
            "murmurhash               1.0.2       \n",
            "music21                  5.5.0       \n",
            "natsort                  5.5.0       \n",
            "nbconvert                5.6.1       \n",
            "nbformat                 4.4.0       \n",
            "networkx                 2.4         \n",
            "nibabel                  2.3.3       \n",
            "nltk                     3.2.5       \n",
            "notebook                 5.2.2       \n",
            "np-utils                 0.5.11.1    \n",
            "numba                    0.40.1      \n",
            "numexpr                  2.7.0       \n",
            "numpy                    1.15.4      \n",
            "nvidia-ml-py3            7.352.0     \n",
            "oauth2client             4.1.3       \n",
            "oauthlib                 3.1.0       \n",
            "okgrade                  0.4.3       \n",
            "olefile                  0.46        \n",
            "opencv-contrib-python    3.4.3.18    \n",
            "opencv-python            3.4.7.28    \n",
            "openpyxl                 2.5.9       \n",
            "opt-einsum               3.1.0       \n",
            "osqp                     0.6.1       \n",
            "packaging                19.2        \n",
            "palettable               3.3.0       \n",
            "pandas                   0.25.3      \n",
            "pandas-datareader        0.7.4       \n",
            "pandas-gbq               0.11.0      \n",
            "pandas-profiling         1.4.1       \n",
            "pandocfilters            1.4.2       \n",
            "paramiko                 2.7.0       \n",
            "parso                    0.5.1       \n",
            "pathlib                  1.0.1       \n",
            "patsy                    0.5.1       \n",
            "pexpect                  4.7.0       \n",
            "pickleshare              0.7.5       \n",
            "Pillow                   4.3.0       \n",
            "pip                      19.3.1      \n",
            "pip-tools                4.2.0       \n",
            "plac                     0.9.6       \n",
            "plotly                   4.1.1       \n",
            "plotnine                 0.5.1       \n",
            "pluggy                   0.7.1       \n",
            "portpicker               1.2.0       \n",
            "prefetch-generator       1.0.1       \n",
            "preshed                  2.0.1       \n",
            "pretty-midi              0.2.8       \n",
            "prettytable              0.7.2       \n",
            "progressbar2             3.38.0      \n",
            "prometheus-client        0.7.1       \n",
            "promise                  2.2.1       \n",
            "prompt-toolkit           1.0.18      \n",
            "protobuf                 3.10.0      \n",
            "psutil                   5.4.8       \n",
            "psycopg2                 2.7.6.1     \n",
            "ptyprocess               0.6.0       \n",
            "py                       1.8.0       \n",
            "pyarrow                  0.14.1      \n",
            "pyasn1                   0.4.7       \n",
            "pyasn1-modules           0.2.7       \n",
            "pycocotools              2.0.0       \n",
            "pycparser                2.19        \n",
            "pydata-google-auth       0.1.3       \n",
            "pydot                    1.3.0       \n",
            "pydot-ng                 2.0.0       \n",
            "pydotplus                2.0.2       \n",
            "PyDrive                  1.3.1       \n",
            "pyemd                    0.5.1       \n",
            "pyglet                   1.3.2       \n",
            "Pygments                 2.1.3       \n",
            "pygobject                3.26.1      \n",
            "pymc3                    3.7         \n",
            "PyMeeus                  0.3.6       \n",
            "pymongo                  3.9.0       \n",
            "pymystem3                0.2.0       \n",
            "PyNaCl                   1.3.0       \n",
            "PyOpenGL                 3.1.0       \n",
            "pyparsing                2.4.5       \n",
            "pypng                    0.0.20      \n",
            "pyrsistent               0.15.5      \n",
            "pysndfile                1.3.8       \n",
            "PySocks                  1.7.1       \n",
            "pystan                   2.19.1.1    \n",
            "pytest                   3.6.4       \n",
            "python-apt               1.6.4       \n",
            "python-chess             0.23.11     \n",
            "python-dateutil          2.6.1       \n",
            "python-louvain           0.13        \n",
            "python-rtmidi            1.3.1       \n",
            "python-slugify           4.0.0       \n",
            "python-utils             2.3.0       \n",
            "pytz                     2018.9      \n",
            "PyWavelets               1.1.1       \n",
            "pyxdg                    0.26        \n",
            "PyYAML                   3.13        \n",
            "pyzmq                    17.0.0      \n",
            "qtconsole                4.6.0       \n",
            "requests                 2.21.0      \n",
            "requests-oauthlib        1.3.0       \n",
            "resampy                  0.2.2       \n",
            "retrying                 1.3.3       \n",
            "rpy2                     2.9.5       \n",
            "rsa                      4.0         \n",
            "s3fs                     0.4.0       \n",
            "s3transfer               0.2.1       \n",
            "scikit-image             0.15.0      \n",
            "scikit-learn             0.21.3      \n",
            "scipy                    1.3.2       \n",
            "screen-resolution-extra  0.0.0       \n",
            "scs                      2.1.1.post2 \n",
            "seaborn                  0.9.0       \n",
            "semantic-version         2.8.2       \n",
            "Send2Trash               1.5.0       \n",
            "setuptools               41.6.0      \n",
            "setuptools-git           1.2         \n",
            "Shapely                  1.6.4.post2 \n",
            "simplegeneric            0.8.1       \n",
            "six                      1.12.0      \n",
            "sklearn                  0.0         \n",
            "sklearn-pandas           1.8.0       \n",
            "smart-open               1.9.0       \n",
            "snowballstemmer          2.0.0       \n",
            "sortedcontainers         2.1.0       \n",
            "SoundFile                0.10.3.post1\n",
            "sox                      1.3.7       \n",
            "spacy                    2.1.9       \n",
            "Sphinx                   1.8.5       \n",
            "sphinxcontrib-websupport 1.1.2       \n",
            "SQLAlchemy               1.3.11      \n",
            "sqlparse                 0.3.0       \n",
            "srsly                    0.2.0       \n",
            "stable-baselines         2.2.1       \n",
            "statsmodels              0.10.1      \n",
            "sympy                    1.1.1       \n",
            "tables                   3.4.4       \n",
            "tabulate                 0.8.5       \n",
            "tblib                    1.5.0       \n",
            "tensor2tensor            1.14.1      \n",
            "tensorboard              1.14.0      \n",
            "tensorboardcolab         0.0.22      \n",
            "tensorflow               1.14.0      \n",
            "tensorflow-datasets      1.3.0       \n",
            "tensorflow-estimator     1.14.0      \n",
            "tensorflow-gan           2.0.0       \n",
            "tensorflow-hub           0.7.0       \n",
            "tensorflow-metadata      0.15.1      \n",
            "tensorflow-privacy       0.2.2       \n",
            "tensorflow-probability   0.7.0       \n",
            "termcolor                1.1.0       \n",
            "terminado                0.8.3       \n",
            "testpath                 0.4.4       \n",
            "text-unidecode           1.3         \n",
            "textblob                 0.15.3      \n",
            "textgenrnn               1.4.1       \n",
            "tflearn                  0.3.2       \n",
            "Theano                   1.0.4       \n",
            "thinc                    7.0.8       \n",
            "toolz                    0.10.0      \n",
            "torch                    1.3.1       \n",
            "torchsummary             1.5.1       \n",
            "torchtext                0.3.1       \n",
            "torchvision              0.4.2       \n",
            "tornado                  4.5.3       \n",
            "tqdm                     4.28.1      \n",
            "traitlets                4.3.3       \n",
            "tweepy                   3.6.0       \n",
            "typing                   3.6.6       \n",
            "typing-extensions        3.6.6       \n",
            "tzlocal                  1.5.1       \n",
            "umap-learn               0.3.10      \n",
            "uritemplate              3.0.0       \n",
            "urllib3                  1.24.3      \n",
            "vega-datasets            0.7.0       \n",
            "virtualenv               16.7.8      \n",
            "wasabi                   0.4.0       \n",
            "wcwidth                  0.1.7       \n",
            "webencodings             0.5.1       \n",
            "webrtcvad                2.0.10      \n",
            "Werkzeug                 0.16.0      \n",
            "wheel                    0.33.6      \n",
            "widgetsnbextension       3.5.1       \n",
            "wordcloud                1.5.0       \n",
            "wrapt                    1.11.2      \n",
            "xarray                   0.11.3      \n",
            "xgboost                  0.90        \n",
            "xkit                     0.0.0       \n",
            "xlrd                     1.1.0       \n",
            "xlwt                     1.3.0       \n",
            "yellowbrick              0.9.1       \n",
            "zict                     1.0.0       \n",
            "zipp                     0.6.0       \n",
            "zmq                      0.0.0       \n"
          ],
          "name": "stdout"
        }
      ]
    }
  ]
}